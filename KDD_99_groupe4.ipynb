{
  "nbformat": 4,
  "nbformat_minor": 0,
  "metadata": {
    "colab": {
      "name": "KDD-99_groupe4.ipynb",
      "provenance": [],
      "collapsed_sections": [
        "j96eC1Rqo5tt"
      ],
      "toc_visible": true
    },
    "kernelspec": {
      "name": "python3",
      "display_name": "Python 3"
    },
    "language_info": {
      "name": "python"
    }
  },
  "cells": [
    {
      "cell_type": "markdown",
      "metadata": {
        "id": "CiIC4vCyi6-h"
      },
      "source": [
        "# **KDD-99 dataset Study with K-mean algorithm**\n",
        "group 4 "
      ]
    },
    {
      "cell_type": "markdown",
      "metadata": {
        "id": "LwixvCAcNrN4"
      },
      "source": [
        "## Table of content\n",
        "\n",
        "1.   Dataset exploration.\n",
        "2.   Machine Learning studies : K-means.\n",
        "        *   Basic features.\n",
        "        *   Basic and content features.\n",
        "        *   All continous features.\n",
        "        *   Other bunch of code.\n",
        "\n",
        "\n",
        "\n"
      ]
    },
    {
      "cell_type": "code",
      "metadata": {
        "id": "U_2HeSqOj5I4"
      },
      "source": [
        "#basic lib import\n",
        "import numpy as np\n",
        "import pandas as pd\n",
        "import copy\n",
        "import matplotlib.pyplot as plt\n",
        "\n",
        "#import lib to link my google drive to the notebook\n",
        "from google.colab import drive\n",
        "\n",
        "#for machine learning studies\n",
        "from sklearn.cluster import KMeans\n",
        "from sklearn.preprocessing import scale\n",
        "from sklearn.model_selection import train_test_split\n",
        "\n",
        "#for correlation plot\n",
        "import seaborn as sns\n",
        "\n"
      ],
      "execution_count": null,
      "outputs": []
    },
    {
      "cell_type": "code",
      "metadata": {
        "colab": {
          "base_uri": "https://localhost:8080/"
        },
        "id": "YJub-D0_lN0g",
        "outputId": "2021da61-a616-4baf-af88-91f4c8e4ac47"
      },
      "source": [
        "drive.mount(\"/content/drive\")"
      ],
      "execution_count": null,
      "outputs": [
        {
          "output_type": "stream",
          "text": [
            "Mounted at /content/drive\n"
          ],
          "name": "stdout"
        }
      ]
    },
    {
      "cell_type": "markdown",
      "metadata": {
        "id": "Dac9gOoLoSX5"
      },
      "source": [
        "\n",
        "\n",
        "---\n",
        "\n"
      ]
    },
    {
      "cell_type": "markdown",
      "metadata": {
        "id": "HRltRb0DjtLp"
      },
      "source": [
        "## Data Set exploration"
      ]
    },
    {
      "cell_type": "code",
      "metadata": {
        "colab": {
          "base_uri": "https://localhost:8080/"
        },
        "id": "0XOot3DWlBKY",
        "outputId": "de3938c1-6041-4d97-b310-436c8e7037ad"
      },
      "source": [
        "data = pd.read_table(\"/content/drive/MyDrive/Colab Notebooks/AIC/kddcup.data_10_percent_corrected\",delimiter=\",\",header=None)\n",
        "print(data.shape)"
      ],
      "execution_count": null,
      "outputs": [
        {
          "output_type": "stream",
          "text": [
            "(494021, 42)\n"
          ],
          "name": "stdout"
        }
      ]
    },
    {
      "cell_type": "code",
      "metadata": {
        "id": "TLy-hGDdmt4S"
      },
      "source": [
        "column_name = [\"duration\",\n",
        "\"protocol_type\",\n",
        "\"service\",\n",
        "\"flag\",\n",
        "\"src_bytes\",\n",
        "\"dst_bytes\",\n",
        "\"land\",\n",
        "\"wrong_fragment\",\n",
        "\"urgent\",\n",
        "\"hot\",\n",
        "\"num_failed_logins\",\n",
        "\"logged_in\",\n",
        "\"num_compromised\",\n",
        "\"root_shell\",\n",
        "\"su_attempted\",\n",
        "\"num_root\",\n",
        "\"num_file_creations\",\n",
        "\"num_shells\",\n",
        "\"num_access_files\",\n",
        "\"num_outbound_cmds\",\n",
        "\"is_host_login\",\n",
        "\"is_guest_login\",\n",
        "\"count\",\n",
        "\"srv_count\",\n",
        "\"serror_rate\",\n",
        "\"srv_serror_rate\",\n",
        "\"rerror_rate\",\n",
        "\"srv_rerror_rate\",\n",
        "\"same_srv_rate\",\n",
        "\"diff_srv_rate\",\n",
        "\"srv_diff_host_rate\",\n",
        "\"dst_host_count\",\n",
        "\"dst_host_srv_count\",\n",
        "\"dst_host_same_srv_rate\",\n",
        "\"dst_host_diff_srv_rate\",\n",
        "\"dst_host_same_src_port_rate\",\n",
        "\"dst_host_srv_diff_host_rate\",\n",
        "\"dst_host_serror_rate\",\n",
        "\"dst_host_srv_serror_rate\",\n",
        "\"dst_host_rerror_rate\",\n",
        "\"dst_host_srv_rerror_rate\",\n",
        "\"label\"]"
      ],
      "execution_count": null,
      "outputs": []
    },
    {
      "cell_type": "code",
      "metadata": {
        "colab": {
          "base_uri": "https://localhost:8080/",
          "height": 224
        },
        "id": "HrmIRd_5nvEr",
        "outputId": "4193a003-cce9-4c4e-b863-9f90bcfdd39a"
      },
      "source": [
        "#we add column to the header of our dataframe\n",
        "data.columns = column_name\n",
        "data.head()"
      ],
      "execution_count": null,
      "outputs": [
        {
          "output_type": "execute_result",
          "data": {
            "text/html": [
              "<div>\n",
              "<style scoped>\n",
              "    .dataframe tbody tr th:only-of-type {\n",
              "        vertical-align: middle;\n",
              "    }\n",
              "\n",
              "    .dataframe tbody tr th {\n",
              "        vertical-align: top;\n",
              "    }\n",
              "\n",
              "    .dataframe thead th {\n",
              "        text-align: right;\n",
              "    }\n",
              "</style>\n",
              "<table border=\"1\" class=\"dataframe\">\n",
              "  <thead>\n",
              "    <tr style=\"text-align: right;\">\n",
              "      <th></th>\n",
              "      <th>duration</th>\n",
              "      <th>protocol_type</th>\n",
              "      <th>service</th>\n",
              "      <th>flag</th>\n",
              "      <th>src_bytes</th>\n",
              "      <th>dst_bytes</th>\n",
              "      <th>land</th>\n",
              "      <th>wrong_fragment</th>\n",
              "      <th>urgent</th>\n",
              "      <th>hot</th>\n",
              "      <th>num_failed_logins</th>\n",
              "      <th>logged_in</th>\n",
              "      <th>num_compromised</th>\n",
              "      <th>root_shell</th>\n",
              "      <th>su_attempted</th>\n",
              "      <th>num_root</th>\n",
              "      <th>num_file_creations</th>\n",
              "      <th>num_shells</th>\n",
              "      <th>num_access_files</th>\n",
              "      <th>num_outbound_cmds</th>\n",
              "      <th>is_host_login</th>\n",
              "      <th>is_guest_login</th>\n",
              "      <th>count</th>\n",
              "      <th>srv_count</th>\n",
              "      <th>serror_rate</th>\n",
              "      <th>srv_serror_rate</th>\n",
              "      <th>rerror_rate</th>\n",
              "      <th>srv_rerror_rate</th>\n",
              "      <th>same_srv_rate</th>\n",
              "      <th>diff_srv_rate</th>\n",
              "      <th>srv_diff_host_rate</th>\n",
              "      <th>dst_host_count</th>\n",
              "      <th>dst_host_srv_count</th>\n",
              "      <th>dst_host_same_srv_rate</th>\n",
              "      <th>dst_host_diff_srv_rate</th>\n",
              "      <th>dst_host_same_src_port_rate</th>\n",
              "      <th>dst_host_srv_diff_host_rate</th>\n",
              "      <th>dst_host_serror_rate</th>\n",
              "      <th>dst_host_srv_serror_rate</th>\n",
              "      <th>dst_host_rerror_rate</th>\n",
              "      <th>dst_host_srv_rerror_rate</th>\n",
              "      <th>label</th>\n",
              "    </tr>\n",
              "  </thead>\n",
              "  <tbody>\n",
              "    <tr>\n",
              "      <th>0</th>\n",
              "      <td>0</td>\n",
              "      <td>tcp</td>\n",
              "      <td>http</td>\n",
              "      <td>SF</td>\n",
              "      <td>181</td>\n",
              "      <td>5450</td>\n",
              "      <td>0</td>\n",
              "      <td>0</td>\n",
              "      <td>0</td>\n",
              "      <td>0</td>\n",
              "      <td>0</td>\n",
              "      <td>1</td>\n",
              "      <td>0</td>\n",
              "      <td>0</td>\n",
              "      <td>0</td>\n",
              "      <td>0</td>\n",
              "      <td>0</td>\n",
              "      <td>0</td>\n",
              "      <td>0</td>\n",
              "      <td>0</td>\n",
              "      <td>0</td>\n",
              "      <td>0</td>\n",
              "      <td>8</td>\n",
              "      <td>8</td>\n",
              "      <td>0.0</td>\n",
              "      <td>0.0</td>\n",
              "      <td>0.0</td>\n",
              "      <td>0.0</td>\n",
              "      <td>1.0</td>\n",
              "      <td>0.0</td>\n",
              "      <td>0.0</td>\n",
              "      <td>9</td>\n",
              "      <td>9</td>\n",
              "      <td>1.0</td>\n",
              "      <td>0.0</td>\n",
              "      <td>0.11</td>\n",
              "      <td>0.0</td>\n",
              "      <td>0.0</td>\n",
              "      <td>0.0</td>\n",
              "      <td>0.0</td>\n",
              "      <td>0.0</td>\n",
              "      <td>normal.</td>\n",
              "    </tr>\n",
              "    <tr>\n",
              "      <th>1</th>\n",
              "      <td>0</td>\n",
              "      <td>tcp</td>\n",
              "      <td>http</td>\n",
              "      <td>SF</td>\n",
              "      <td>239</td>\n",
              "      <td>486</td>\n",
              "      <td>0</td>\n",
              "      <td>0</td>\n",
              "      <td>0</td>\n",
              "      <td>0</td>\n",
              "      <td>0</td>\n",
              "      <td>1</td>\n",
              "      <td>0</td>\n",
              "      <td>0</td>\n",
              "      <td>0</td>\n",
              "      <td>0</td>\n",
              "      <td>0</td>\n",
              "      <td>0</td>\n",
              "      <td>0</td>\n",
              "      <td>0</td>\n",
              "      <td>0</td>\n",
              "      <td>0</td>\n",
              "      <td>8</td>\n",
              "      <td>8</td>\n",
              "      <td>0.0</td>\n",
              "      <td>0.0</td>\n",
              "      <td>0.0</td>\n",
              "      <td>0.0</td>\n",
              "      <td>1.0</td>\n",
              "      <td>0.0</td>\n",
              "      <td>0.0</td>\n",
              "      <td>19</td>\n",
              "      <td>19</td>\n",
              "      <td>1.0</td>\n",
              "      <td>0.0</td>\n",
              "      <td>0.05</td>\n",
              "      <td>0.0</td>\n",
              "      <td>0.0</td>\n",
              "      <td>0.0</td>\n",
              "      <td>0.0</td>\n",
              "      <td>0.0</td>\n",
              "      <td>normal.</td>\n",
              "    </tr>\n",
              "    <tr>\n",
              "      <th>2</th>\n",
              "      <td>0</td>\n",
              "      <td>tcp</td>\n",
              "      <td>http</td>\n",
              "      <td>SF</td>\n",
              "      <td>235</td>\n",
              "      <td>1337</td>\n",
              "      <td>0</td>\n",
              "      <td>0</td>\n",
              "      <td>0</td>\n",
              "      <td>0</td>\n",
              "      <td>0</td>\n",
              "      <td>1</td>\n",
              "      <td>0</td>\n",
              "      <td>0</td>\n",
              "      <td>0</td>\n",
              "      <td>0</td>\n",
              "      <td>0</td>\n",
              "      <td>0</td>\n",
              "      <td>0</td>\n",
              "      <td>0</td>\n",
              "      <td>0</td>\n",
              "      <td>0</td>\n",
              "      <td>8</td>\n",
              "      <td>8</td>\n",
              "      <td>0.0</td>\n",
              "      <td>0.0</td>\n",
              "      <td>0.0</td>\n",
              "      <td>0.0</td>\n",
              "      <td>1.0</td>\n",
              "      <td>0.0</td>\n",
              "      <td>0.0</td>\n",
              "      <td>29</td>\n",
              "      <td>29</td>\n",
              "      <td>1.0</td>\n",
              "      <td>0.0</td>\n",
              "      <td>0.03</td>\n",
              "      <td>0.0</td>\n",
              "      <td>0.0</td>\n",
              "      <td>0.0</td>\n",
              "      <td>0.0</td>\n",
              "      <td>0.0</td>\n",
              "      <td>normal.</td>\n",
              "    </tr>\n",
              "    <tr>\n",
              "      <th>3</th>\n",
              "      <td>0</td>\n",
              "      <td>tcp</td>\n",
              "      <td>http</td>\n",
              "      <td>SF</td>\n",
              "      <td>219</td>\n",
              "      <td>1337</td>\n",
              "      <td>0</td>\n",
              "      <td>0</td>\n",
              "      <td>0</td>\n",
              "      <td>0</td>\n",
              "      <td>0</td>\n",
              "      <td>1</td>\n",
              "      <td>0</td>\n",
              "      <td>0</td>\n",
              "      <td>0</td>\n",
              "      <td>0</td>\n",
              "      <td>0</td>\n",
              "      <td>0</td>\n",
              "      <td>0</td>\n",
              "      <td>0</td>\n",
              "      <td>0</td>\n",
              "      <td>0</td>\n",
              "      <td>6</td>\n",
              "      <td>6</td>\n",
              "      <td>0.0</td>\n",
              "      <td>0.0</td>\n",
              "      <td>0.0</td>\n",
              "      <td>0.0</td>\n",
              "      <td>1.0</td>\n",
              "      <td>0.0</td>\n",
              "      <td>0.0</td>\n",
              "      <td>39</td>\n",
              "      <td>39</td>\n",
              "      <td>1.0</td>\n",
              "      <td>0.0</td>\n",
              "      <td>0.03</td>\n",
              "      <td>0.0</td>\n",
              "      <td>0.0</td>\n",
              "      <td>0.0</td>\n",
              "      <td>0.0</td>\n",
              "      <td>0.0</td>\n",
              "      <td>normal.</td>\n",
              "    </tr>\n",
              "    <tr>\n",
              "      <th>4</th>\n",
              "      <td>0</td>\n",
              "      <td>tcp</td>\n",
              "      <td>http</td>\n",
              "      <td>SF</td>\n",
              "      <td>217</td>\n",
              "      <td>2032</td>\n",
              "      <td>0</td>\n",
              "      <td>0</td>\n",
              "      <td>0</td>\n",
              "      <td>0</td>\n",
              "      <td>0</td>\n",
              "      <td>1</td>\n",
              "      <td>0</td>\n",
              "      <td>0</td>\n",
              "      <td>0</td>\n",
              "      <td>0</td>\n",
              "      <td>0</td>\n",
              "      <td>0</td>\n",
              "      <td>0</td>\n",
              "      <td>0</td>\n",
              "      <td>0</td>\n",
              "      <td>0</td>\n",
              "      <td>6</td>\n",
              "      <td>6</td>\n",
              "      <td>0.0</td>\n",
              "      <td>0.0</td>\n",
              "      <td>0.0</td>\n",
              "      <td>0.0</td>\n",
              "      <td>1.0</td>\n",
              "      <td>0.0</td>\n",
              "      <td>0.0</td>\n",
              "      <td>49</td>\n",
              "      <td>49</td>\n",
              "      <td>1.0</td>\n",
              "      <td>0.0</td>\n",
              "      <td>0.02</td>\n",
              "      <td>0.0</td>\n",
              "      <td>0.0</td>\n",
              "      <td>0.0</td>\n",
              "      <td>0.0</td>\n",
              "      <td>0.0</td>\n",
              "      <td>normal.</td>\n",
              "    </tr>\n",
              "  </tbody>\n",
              "</table>\n",
              "</div>"
            ],
            "text/plain": [
              "   duration protocol_type  ... dst_host_srv_rerror_rate    label\n",
              "0         0           tcp  ...                      0.0  normal.\n",
              "1         0           tcp  ...                      0.0  normal.\n",
              "2         0           tcp  ...                      0.0  normal.\n",
              "3         0           tcp  ...                      0.0  normal.\n",
              "4         0           tcp  ...                      0.0  normal.\n",
              "\n",
              "[5 rows x 42 columns]"
            ]
          },
          "metadata": {
            "tags": []
          },
          "execution_count": 7
        }
      ]
    },
    {
      "cell_type": "code",
      "metadata": {
        "colab": {
          "base_uri": "https://localhost:8080/"
        },
        "id": "_X3CBYMOnz4d",
        "outputId": "064b8ef9-13f1-4e86-f68f-dd6bc8c2be1a"
      },
      "source": [
        "data.dtypes"
      ],
      "execution_count": null,
      "outputs": [
        {
          "output_type": "execute_result",
          "data": {
            "text/plain": [
              "duration                         int64\n",
              "protocol_type                   object\n",
              "service                         object\n",
              "flag                            object\n",
              "src_bytes                        int64\n",
              "dst_bytes                        int64\n",
              "land                             int64\n",
              "wrong_fragment                   int64\n",
              "urgent                           int64\n",
              "hot                              int64\n",
              "num_failed_logins                int64\n",
              "logged_in                        int64\n",
              "num_compromised                  int64\n",
              "root_shell                       int64\n",
              "su_attempted                     int64\n",
              "num_root                         int64\n",
              "num_file_creations               int64\n",
              "num_shells                       int64\n",
              "num_access_files                 int64\n",
              "num_outbound_cmds                int64\n",
              "is_host_login                    int64\n",
              "is_guest_login                   int64\n",
              "count                            int64\n",
              "srv_count                        int64\n",
              "serror_rate                    float64\n",
              "srv_serror_rate                float64\n",
              "rerror_rate                    float64\n",
              "srv_rerror_rate                float64\n",
              "same_srv_rate                  float64\n",
              "diff_srv_rate                  float64\n",
              "srv_diff_host_rate             float64\n",
              "dst_host_count                   int64\n",
              "dst_host_srv_count               int64\n",
              "dst_host_same_srv_rate         float64\n",
              "dst_host_diff_srv_rate         float64\n",
              "dst_host_same_src_port_rate    float64\n",
              "dst_host_srv_diff_host_rate    float64\n",
              "dst_host_serror_rate           float64\n",
              "dst_host_srv_serror_rate       float64\n",
              "dst_host_rerror_rate           float64\n",
              "dst_host_srv_rerror_rate       float64\n",
              "label                           object\n",
              "dtype: object"
            ]
          },
          "metadata": {
            "tags": []
          },
          "execution_count": 8
        }
      ]
    },
    {
      "cell_type": "markdown",
      "metadata": {
        "id": "8-k34oj-HbKs"
      },
      "source": [
        "42 features made of categorical and continous variables. First we are going to make sure that there are no missing values. Thus it will save us some preproccessing time "
      ]
    },
    {
      "cell_type": "code",
      "metadata": {
        "colab": {
          "base_uri": "https://localhost:8080/"
        },
        "id": "6s8jr_Y1yZsG",
        "outputId": "e787eb77-562e-4968-c2c1-592643077bc1"
      },
      "source": [
        "data.isnull().values.any()"
      ],
      "execution_count": null,
      "outputs": [
        {
          "output_type": "execute_result",
          "data": {
            "text/plain": [
              "False"
            ]
          },
          "metadata": {
            "tags": []
          },
          "execution_count": 9
        }
      ]
    },
    {
      "cell_type": "markdown",
      "metadata": {
        "id": "YNAOfAmkj6dB"
      },
      "source": [
        "No missing values. that is a very good point"
      ]
    },
    {
      "cell_type": "markdown",
      "metadata": {
        "id": "i1bptf8EHwVo"
      },
      "source": [
        "\n",
        "\n",
        "---\n",
        "\n"
      ]
    },
    {
      "cell_type": "markdown",
      "metadata": {
        "id": "PgqXZJjUiB6l"
      },
      "source": [
        "First we split our data into test an train data"
      ]
    },
    {
      "cell_type": "code",
      "metadata": {
        "id": "znnHhiUjhdOe"
      },
      "source": [
        "train, test = train_test_split(data,test_size = 0.3)"
      ],
      "execution_count": null,
      "outputs": []
    },
    {
      "cell_type": "markdown",
      "metadata": {
        "id": "uq03MzyDHxYx"
      },
      "source": [
        "Then we are going to dive deeper into Object variables to understand the full dataset"
      ]
    },
    {
      "cell_type": "code",
      "metadata": {
        "id": "LQ7U9VD0saAu",
        "colab": {
          "base_uri": "https://localhost:8080/"
        },
        "outputId": "467c1800-6073-4f50-ff13-f42f2ab5204e"
      },
      "source": [
        "#full dataset\n",
        "protocol_type = data[\"protocol_type\"]\n",
        "protocol_type_OHE = pd.get_dummies(protocol_type)\n",
        "protocol_type_OHE.sum()"
      ],
      "execution_count": null,
      "outputs": [
        {
          "output_type": "execute_result",
          "data": {
            "text/plain": [
              "icmp    283602\n",
              "tcp     190065\n",
              "udp      20354\n",
              "dtype: int64"
            ]
          },
          "metadata": {
            "tags": []
          },
          "execution_count": 8
        }
      ]
    },
    {
      "cell_type": "code",
      "metadata": {
        "colab": {
          "base_uri": "https://localhost:8080/"
        },
        "id": "tJm9GBLnhwFd",
        "outputId": "26083423-f2d2-4599-f324-a8c592fa0fcf"
      },
      "source": [
        "#train dataset\n",
        "protocol_type_train = train[\"protocol_type\"]\n",
        "protocol_type_train_OHE = pd.get_dummies(protocol_type_train)\n",
        "protocol_type_train_OHE.sum()"
      ],
      "execution_count": null,
      "outputs": [
        {
          "output_type": "execute_result",
          "data": {
            "text/plain": [
              "icmp    198437\n",
              "tcp     133076\n",
              "udp      14301\n",
              "dtype: int64"
            ]
          },
          "metadata": {
            "tags": []
          },
          "execution_count": 23
        }
      ]
    },
    {
      "cell_type": "code",
      "metadata": {
        "colab": {
          "base_uri": "https://localhost:8080/"
        },
        "id": "RZ3mWakQibEH",
        "outputId": "5873ac19-08fb-4b93-f0b7-d9a95844bf05"
      },
      "source": [
        "#test dataset\n",
        "protocol_type_test = test[\"protocol_type\"]\n",
        "protocol_type_test_OHE = pd.get_dummies(protocol_type_test)\n",
        "protocol_type_test_OHE.sum()"
      ],
      "execution_count": null,
      "outputs": [
        {
          "output_type": "execute_result",
          "data": {
            "text/plain": [
              "icmp    85165\n",
              "tcp     56989\n",
              "udp      6053\n",
              "dtype: int64"
            ]
          },
          "metadata": {
            "tags": []
          },
          "execution_count": 24
        }
      ]
    },
    {
      "cell_type": "code",
      "metadata": {
        "colab": {
          "base_uri": "https://localhost:8080/"
        },
        "id": "azTBONitsaIz",
        "outputId": "e322cc7b-c311-4a18-f710-8258a96fcec5"
      },
      "source": [
        "#full dataset\n",
        "service = data.service\n",
        "service_OHE = pd.get_dummies(service)\n",
        "print(service_OHE.sum())"
      ],
      "execution_count": null,
      "outputs": [
        {
          "output_type": "stream",
          "text": [
            "IRC           43\n",
            "X11           11\n",
            "Z39_50        92\n",
            "auth         328\n",
            "bgp          106\n",
            "            ... \n",
            "urp_i        538\n",
            "uucp         106\n",
            "uucp_path    106\n",
            "vmnet        106\n",
            "whois        110\n",
            "Length: 66, dtype: int64\n"
          ],
          "name": "stdout"
        }
      ]
    },
    {
      "cell_type": "code",
      "metadata": {
        "colab": {
          "base_uri": "https://localhost:8080/"
        },
        "id": "S5M6IyeHipXu",
        "outputId": "4faad5c1-95c0-4437-b850-c9b24012ce8e"
      },
      "source": [
        "#train dataset\n",
        "service_train = train.service\n",
        "service_train_OHE = pd.get_dummies(service_train)\n",
        "print(service_train_OHE.sum())"
      ],
      "execution_count": null,
      "outputs": [
        {
          "output_type": "stream",
          "text": [
            "IRC           26\n",
            "X11            6\n",
            "Z39_50        69\n",
            "auth         234\n",
            "bgp           72\n",
            "            ... \n",
            "urp_i        376\n",
            "uucp          67\n",
            "uucp_path     77\n",
            "vmnet         74\n",
            "whois         76\n",
            "Length: 65, dtype: int64\n"
          ],
          "name": "stdout"
        }
      ]
    },
    {
      "cell_type": "code",
      "metadata": {
        "colab": {
          "base_uri": "https://localhost:8080/"
        },
        "id": "Mx7Co5bXi7Wh",
        "outputId": "3f3eb2c9-b8a7-48ed-bb47-1ead530d233f"
      },
      "source": [
        "#test dataset\n",
        "service_test = test.service\n",
        "service_test_OHE = pd.get_dummies(service_test)\n",
        "print(service_test_OHE.sum())"
      ],
      "execution_count": null,
      "outputs": [
        {
          "output_type": "stream",
          "text": [
            "IRC           17\n",
            "X11            5\n",
            "Z39_50        23\n",
            "auth          94\n",
            "bgp           34\n",
            "            ... \n",
            "urp_i        162\n",
            "uucp          39\n",
            "uucp_path     29\n",
            "vmnet         32\n",
            "whois         34\n",
            "Length: 64, dtype: int64\n"
          ],
          "name": "stdout"
        }
      ]
    },
    {
      "cell_type": "code",
      "metadata": {
        "colab": {
          "base_uri": "https://localhost:8080/"
        },
        "id": "-y9uEavXsaLk",
        "outputId": "7ae55533-b762-4e1a-d11e-19c395214bc1"
      },
      "source": [
        "#full dataset\n",
        "flag = data.flag\n",
        "flag_OHE = pd.get_dummies(flag)\n",
        "flag_OHE.sum()"
      ],
      "execution_count": null,
      "outputs": [
        {
          "output_type": "execute_result",
          "data": {
            "text/plain": [
              "OTH            8\n",
              "REJ        26875\n",
              "RSTO         579\n",
              "RSTOS0        11\n",
              "RSTR         903\n",
              "S0         87007\n",
              "S1            57\n",
              "S2            24\n",
              "S3            10\n",
              "SF        378440\n",
              "SH           107\n",
              "dtype: int64"
            ]
          },
          "metadata": {
            "tags": []
          },
          "execution_count": 10
        }
      ]
    },
    {
      "cell_type": "code",
      "metadata": {
        "colab": {
          "base_uri": "https://localhost:8080/"
        },
        "id": "7-c_-sNljPaB",
        "outputId": "95c819b9-6d10-46dd-861c-d057fea34656"
      },
      "source": [
        "#train dataset\n",
        "flag_train = train.flag\n",
        "flag_train_OHE = pd.get_dummies(flag_train)\n",
        "flag_train_OHE.sum()"
      ],
      "execution_count": null,
      "outputs": [
        {
          "output_type": "execute_result",
          "data": {
            "text/plain": [
              "OTH            7\n",
              "REJ        18942\n",
              "RSTO         399\n",
              "RSTOS0        10\n",
              "RSTR         634\n",
              "S0         60774\n",
              "S1            40\n",
              "S2            19\n",
              "S3             9\n",
              "SF        264904\n",
              "SH            76\n",
              "dtype: int64"
            ]
          },
          "metadata": {
            "tags": []
          },
          "execution_count": 29
        }
      ]
    },
    {
      "cell_type": "code",
      "metadata": {
        "colab": {
          "base_uri": "https://localhost:8080/"
        },
        "id": "2t1lZ0gqjPRt",
        "outputId": "2d3ab3a2-f732-46a0-ab5c-5db20c8211ce"
      },
      "source": [
        "#test dataset\n",
        "flag_test = test.flag\n",
        "flag_test_OHE = pd.get_dummies(flag_test)\n",
        "flag_test_OHE.sum()"
      ],
      "execution_count": null,
      "outputs": [
        {
          "output_type": "execute_result",
          "data": {
            "text/plain": [
              "OTH            1\n",
              "REJ         7933\n",
              "RSTO         180\n",
              "RSTOS0         1\n",
              "RSTR         269\n",
              "S0         26233\n",
              "S1            17\n",
              "S2             5\n",
              "S3             1\n",
              "SF        113536\n",
              "SH            31\n",
              "dtype: int64"
            ]
          },
          "metadata": {
            "tags": []
          },
          "execution_count": 30
        }
      ]
    },
    {
      "cell_type": "code",
      "metadata": {
        "colab": {
          "base_uri": "https://localhost:8080/"
        },
        "id": "p5j80LrBsaOy",
        "outputId": "68793099-de21-4114-a2c0-dc07395c6b56"
      },
      "source": [
        "#full dataset\n",
        "label_set = data.label\n",
        "label_set_OHE = pd.get_dummies(label_set)\n",
        "label_set_OHE.sum()"
      ],
      "execution_count": null,
      "outputs": [
        {
          "output_type": "execute_result",
          "data": {
            "text/plain": [
              "back.                 2203\n",
              "buffer_overflow.        30\n",
              "ftp_write.               8\n",
              "guess_passwd.           53\n",
              "imap.                   12\n",
              "ipsweep.              1247\n",
              "land.                   21\n",
              "loadmodule.              9\n",
              "multihop.                7\n",
              "neptune.            107201\n",
              "nmap.                  231\n",
              "normal.              97278\n",
              "perl.                    3\n",
              "phf.                     4\n",
              "pod.                   264\n",
              "portsweep.            1040\n",
              "rootkit.                10\n",
              "satan.                1589\n",
              "smurf.              280790\n",
              "spy.                     2\n",
              "teardrop.              979\n",
              "warezclient.          1020\n",
              "warezmaster.            20\n",
              "dtype: int64"
            ]
          },
          "metadata": {
            "tags": []
          },
          "execution_count": 11
        }
      ]
    },
    {
      "cell_type": "code",
      "metadata": {
        "colab": {
          "base_uri": "https://localhost:8080/"
        },
        "id": "gC1LXeKyjqi9",
        "outputId": "a1cad4ce-86b9-4477-a2a9-1df12e31eb5e"
      },
      "source": [
        "#train dataset\n",
        "label_train_set = train.label\n",
        "label_train_set_OHE = pd.get_dummies(label_train_set)\n",
        "label_train_set_OHE.sum()"
      ],
      "execution_count": null,
      "outputs": [
        {
          "output_type": "execute_result",
          "data": {
            "text/plain": [
              "back.                 1535\n",
              "buffer_overflow.        18\n",
              "ftp_write.               1\n",
              "guess_passwd.           35\n",
              "imap.                    8\n",
              "ipsweep.               874\n",
              "land.                   15\n",
              "loadmodule.              6\n",
              "multihop.                7\n",
              "neptune.             74988\n",
              "nmap.                  172\n",
              "normal.              68218\n",
              "perl.                    1\n",
              "phf.                     4\n",
              "pod.                   185\n",
              "portsweep.             730\n",
              "rootkit.                 6\n",
              "satan.                1144\n",
              "smurf.              196459\n",
              "spy.                     2\n",
              "teardrop.              691\n",
              "warezclient.           700\n",
              "warezmaster.            15\n",
              "dtype: int64"
            ]
          },
          "metadata": {
            "tags": []
          },
          "execution_count": 32
        }
      ]
    },
    {
      "cell_type": "code",
      "metadata": {
        "colab": {
          "base_uri": "https://localhost:8080/"
        },
        "id": "wrDTUduOjqgx",
        "outputId": "5bcb2f77-4295-46e1-92a2-8ff56f62c20b"
      },
      "source": [
        "#test dataset\n",
        "label_test_set = test.label\n",
        "label_test_set_OHE = pd.get_dummies(label_test_set)\n",
        "label_test_set_OHE.sum()"
      ],
      "execution_count": null,
      "outputs": [
        {
          "output_type": "execute_result",
          "data": {
            "text/plain": [
              "back.                 668\n",
              "buffer_overflow.       12\n",
              "ftp_write.              7\n",
              "guess_passwd.          18\n",
              "imap.                   4\n",
              "ipsweep.              373\n",
              "land.                   6\n",
              "loadmodule.             3\n",
              "neptune.            32213\n",
              "nmap.                  59\n",
              "normal.             29060\n",
              "perl.                   2\n",
              "pod.                   79\n",
              "portsweep.            310\n",
              "rootkit.                4\n",
              "satan.                445\n",
              "smurf.              84331\n",
              "teardrop.             288\n",
              "warezclient.          320\n",
              "warezmaster.            5\n",
              "dtype: int64"
            ]
          },
          "metadata": {
            "tags": []
          },
          "execution_count": 33
        }
      ]
    },
    {
      "cell_type": "code",
      "metadata": {
        "id": "2thS0ElEkIl2"
      },
      "source": [
        "def count_normal_data(set):\n",
        "  label = set.label\n",
        "  normal = 0\n",
        "  anormal = 0\n",
        "  for i in range (len(label)):\n",
        "    if(label.iloc[i]==\"normal.\"):\n",
        "      normal += 1\n",
        "    else:\n",
        "      anormal += 1\n",
        "  return normal, anormal"
      ],
      "execution_count": null,
      "outputs": []
    },
    {
      "cell_type": "code",
      "metadata": {
        "colab": {
          "base_uri": "https://localhost:8080/"
        },
        "id": "LDnCkrKXkoNf",
        "outputId": "74f70845-1c88-4c63-a7d8-f1e015983dc2"
      },
      "source": [
        "normal_count, anormal_count = count_normal_data(data)\n",
        "normal_count_train, anormal_count_train = count_normal_data(train)\n",
        "normal_count_test, anormal_count_test = count_normal_data(test)\n",
        "\n",
        "normal_percentage = normal_count/(normal_count + anormal_count)\n",
        "normal_percentage_train = normal_count_train/(normal_count_train + anormal_count_train)\n",
        "normal_percentage_test = normal_count_test/(normal_count_test + anormal_count_test)\n",
        "\n",
        "print(f\"percentage of normal data {normal_percentage}, and anormal data {1 - normal_percentage} in the full dataset\")\n",
        "print(f\"percentage of normal data {normal_percentage_train}, and anormal data {1 - normal_percentage_train} in the train dataset\")\n",
        "print(f\"percentage of normal data {normal_percentage_test}, and anormal data {1 - normal_percentage_test} in the test dataset\")"
      ],
      "execution_count": null,
      "outputs": [
        {
          "output_type": "stream",
          "text": [
            "percentage of normal data 0.19691065764410826, and anormal data 0.8030893423558918 in the full dataset\n",
            "percentage of normal data 0.19663171531516943, and anormal data 0.8033682846848306 in the train dataset\n",
            "percentage of normal data 0.19756151868670171, and anormal data 0.8024384813132983 in the test dataset\n"
          ],
          "name": "stdout"
        }
      ]
    },
    {
      "cell_type": "code",
      "metadata": {
        "colab": {
          "base_uri": "https://localhost:8080/",
          "height": 373
        },
        "id": "39QoaPdZuFqO",
        "outputId": "acf36ffc-dc87-48b2-9ec4-0c0fefb31a8b"
      },
      "source": [
        "fig, ax = plt.subplots(1,3,sharey=True,figsize=(15,5))\n",
        "fig.suptitle(\"repartition of normal and anormal data in each dataset\")\n",
        "ax[0].bar([\"normal\",\"anormal\"],[normal_percentage,1 - normal_percentage],color=[\"limegreen\",\"red\"])\n",
        "ax[0].set_ylabel(\"percentage\")\n",
        "ax[0].set_ylim([0,1])\n",
        "ax[0].set_title(\"full data set\")\n",
        "ax[1].bar([\"normal\",\"anormal\"],[normal_percentage_train,1 - normal_percentage_train],color=[\"limegreen\",\"red\"])\n",
        "ax[1].set_title(\"train data set\")\n",
        "ax[2].bar([\"normal\",\"anormal\"],[normal_percentage_test,1 - normal_percentage_test],color=[\"limegreen\",\"red\"])\n",
        "ax[2].set_title(\"test data set\")\n",
        "fig.tight_layout()\n",
        "fig.subplots_adjust(top=0.85)\n",
        "plt.show()"
      ],
      "execution_count": null,
      "outputs": [
        {
          "output_type": "display_data",
          "data": {
            "image/png": "[encoded data removed]",
            "text/plain": [
              "<Figure size 1080x360 with 3 Axes>"
            ]
          },
          "metadata": {
            "tags": [],
            "needs_background": "light"
          }
        }
      ]
    },
    {
      "cell_type": "markdown",
      "metadata": {
        "id": "wUB77taxDFS1"
      },
      "source": [
        "We can see there that data distribution is the same in each data. There is roughly 20\\% of normal data and 80\\% of anormal data. It is important to have the same repartition in each dataset but the predominance of anormal behaviour is not necessarily a good thing. As a reminder, the goal of an anomaly detection system is to learn patterns of normal behaviour in order to detect anormal behaviour. Here our algorithm could learn patterns that highlight anormal behaviour rather than patterns that highlight normal behaviour. In that case, our model will be an intrusion detection system instead of anomaly detection. We have to be aware of that. Even if we have good results with our test dataset at the end, it could be interesting to test our model with quite new intrusion behaviour. If we had bad results, it would mean that we have overfitting on anormal behaviour.\\\\"
      ]
    },
    {
      "cell_type": "markdown",
      "metadata": {
        "id": "sSv6kDi7DGFL"
      },
      "source": [
        "\n",
        "\n",
        "---\n",
        "\n"
      ]
    },
    {
      "cell_type": "markdown",
      "metadata": {
        "id": "jVl-Z7N9IDpm"
      },
      "source": [
        "Then we transforming this String data into Integer data. We decided to not use one hot encoding because we are not going to use non continous variables in the first time."
      ]
    },
    {
      "cell_type": "code",
      "metadata": {
        "id": "Yhuo1S83_I3l"
      },
      "source": [
        "#transforming string to int for categorical features\n",
        "data['protocol_type'] = pd.factorize(data['protocol_type'])[0].astype(np.int64)\n",
        "data['service'] = pd.factorize(data['service'])[0].astype(np.int64)\n",
        "data['flag'] = pd.factorize(data['flag'])[0].astype(np.int64)\n",
        "data['label'] = pd.factorize(data['label'])[0].astype(np.int64)"
      ],
      "execution_count": null,
      "outputs": []
    },
    {
      "cell_type": "markdown",
      "metadata": {
        "id": "CEyMsuphIb2K"
      },
      "source": [
        "We decided to create 3 different data set made of basic, content and traffic feature. This will allow us to start our study with simpler dataset."
      ]
    },
    {
      "cell_type": "code",
      "metadata": {
        "id": "FKb6xf4k-ZRH"
      },
      "source": [
        "X = data.drop(columns=[\"label\"])\n",
        "traffic_features = data[[\"count\",\"srv_count\",\"serror_rate\",\"srv_serror_rate\",\"rerror_rate\",\"srv_rerror_rate\",\"same_srv_rate\",\"diff_srv_rate\",\"srv_diff_host_rate\",\"dst_host_count\",\"dst_host_srv_count\",\"dst_host_serror_rate\",\"dst_host_srv_serror_rate\",\"dst_host_rerror_rate\",\"dst_host_srv_rerror_rate\",\"dst_host_same_srv_rate\",\"dst_host_diff_srv_rate\",\"dst_host_srv_diff_host_rate\",\"dst_host_same_src_port_rate\"]]\n",
        "basic_features = data[[\"duration\",\"protocol_type\",\"service\",\"flag\",\"src_bytes\",\"dst_bytes\",\"land\",\"wrong_fragment\",\"urgent\"]]\n",
        "content_features = data[[\"hot\",\"num_failed_logins\",\"logged_in\",\"num_compromised\",\"root_shell\",\"su_attempted\",\"num_root\",\"num_file_creations\",\"num_shells\",\"num_access_files\",\"num_outbound_cmds\",\"is_host_login\",\"is_guest_login\"]]"
      ],
      "execution_count": null,
      "outputs": []
    },
    {
      "cell_type": "markdown",
      "metadata": {
        "id": "J57LNdjQoOGY"
      },
      "source": [
        "\n",
        "\n",
        "---\n",
        "\n"
      ]
    },
    {
      "cell_type": "markdown",
      "metadata": {
        "id": "3S_X5NTlhovX"
      },
      "source": [
        "## Machine Learning studies : K-mean\n"
      ]
    },
    {
      "cell_type": "markdown",
      "metadata": {
        "id": "NS98wtaTIuEc"
      },
      "source": [
        "Functions that are going to be used in our study"
      ]
    },
    {
      "cell_type": "code",
      "metadata": {
        "id": "cqV6cIEC2SVO"
      },
      "source": [
        "#kmeans algorithm\n",
        "def Kmeans_model(X,number_of_clusters,number_init):\n",
        "  distorsions = []\n",
        "  for k in number_of_clusters:\n",
        "    print(k)\n",
        "    kmeans = KMeans(n_clusters=k,n_init=number_init)\n",
        "    kmeans.fit(X)\n",
        "    distorsions.append(kmeans.inertia_)\n",
        "\n",
        "  if (len(number_of_clusters)>1): #only when we are testing more than one cluster setting\n",
        "    fig = plt.figure(figsize=(15, 5))\n",
        "    plt.plot(number_of_clusters, distorsions)\n",
        "    plt.grid(True)\n",
        "    plt.title('Elbow curve distorsion')\n",
        "    plt.xlabel(\"number of cluster K\")\n",
        "    plt.ylabel(\".inertia_\")\n",
        "    \n",
        "  return distorsions\n",
        "\n",
        "#function that returns a list composed of the number of normal data in each cluster\n",
        "def kmean_label_study(y,model_label,nb_clusters):\n",
        "  normal_data_in_cluster = np.array(np.zeros(nb_clusters))\n",
        "  for i in range(len(y)):\n",
        "    if(y.iloc[i]==\"normal.\" or y.iloc[i]==0):\n",
        "      normal_data_in_cluster[model_label[i]] += 1\n",
        "  return normal_data_in_cluster\n"
      ],
      "execution_count": null,
      "outputs": []
    },
    {
      "cell_type": "code",
      "metadata": {
        "id": "Q-twL2999IGN"
      },
      "source": [
        "#correlation plot\n",
        "def plot_corr(corr):\n",
        "    # Generate a mask for the upper triangle\n",
        "    mask = np.zeros_like(corr, dtype=np.bool)\n",
        "    mask[np.triu_indices_from(mask)] = True\n",
        "    \n",
        "    # Generate a custom diverging colormap\n",
        "    cmap = sns.diverging_palette(220, 10, as_cmap=True)\n",
        "\n",
        "    sns.heatmap(corr, mask=mask, cmap=cmap)\n",
        "\n",
        "    sns.set_style('darkgrid')\n",
        "    plt.rc('figure', figsize=[8, 6])"
      ],
      "execution_count": null,
      "outputs": []
    },
    {
      "cell_type": "markdown",
      "metadata": {
        "id": "4c4oFR3LktUs"
      },
      "source": [
        "First we start with simple dataset. We are going to use only basic features to implement our model. (variables from the first table on the kdd_99 website). \\\n",
        "On top of that we are going to use only continous variables. The kmeans algorithm is using euclidian distance to compute the distance between data and their cluster centroid. Thus it is not possible to use discrete variables in our study because it do not take in account the data repartition that is crucial for discrete variables. (mahalanobis distance would have been better)"
      ]
    },
    {
      "cell_type": "markdown",
      "metadata": {
        "id": "oPSzgcpkm8Jt"
      },
      "source": [
        "### Basic features"
      ]
    },
    {
      "cell_type": "code",
      "metadata": {
        "colab": {
          "base_uri": "https://localhost:8080/",
          "height": 337
        },
        "id": "AJK3YNNtUkdC",
        "outputId": "5acb3703-4aa4-4523-ec7d-c51f4c0d696c"
      },
      "source": [
        "corr_basic_feature = train[[\"duration\",\"src_bytes\",\"dst_bytes\",\"wrong_fragment\",\"urgent\"]].corr()\n",
        "plot_corr(corr_basic_feature)"
      ],
      "execution_count": null,
      "outputs": [
        {
          "output_type": "display_data",
          "data": {
            "image/png": "[encoded data removed]",
            "text/plain": [
              "<Figure size 432x288 with 2 Axes>"
            ]
          },
          "metadata": {
            "tags": [],
            "needs_background": "light"
          }
        }
      ]
    },
    {
      "cell_type": "markdown",
      "metadata": {
        "id": "I-rO3ZFCcJ5r"
      },
      "source": [
        "no strong correlation within data -> euclidian distance is interresting in that case"
      ]
    },
    {
      "cell_type": "code",
      "metadata": {
        "id": "ekVp826umcq8"
      },
      "source": [
        "continous_basic_features = train[[\"duration\",\"src_bytes\",\"dst_bytes\",\"wrong_fragment\",\"urgent\"]]"
      ],
      "execution_count": null,
      "outputs": []
    },
    {
      "cell_type": "markdown",
      "metadata": {
        "id": "bKOlud4SJBxN"
      },
      "source": [
        "we scale our data"
      ]
    },
    {
      "cell_type": "code",
      "metadata": {
        "id": "Afk-fZq0S4-J",
        "colab": {
          "base_uri": "https://localhost:8080/",
          "height": 296
        },
        "outputId": "c3e16045-04fc-473a-aac9-8160604cf59a"
      },
      "source": [
        "continous_basic_features_centered = pd.DataFrame(scale(continous_basic_features),columns = continous_basic_features.columns)\n",
        "continous_basic_features_centered.describe()"
      ],
      "execution_count": null,
      "outputs": [
        {
          "output_type": "execute_result",
          "data": {
            "text/html": [
              "<div>\n",
              "<style scoped>\n",
              "    .dataframe tbody tr th:only-of-type {\n",
              "        vertical-align: middle;\n",
              "    }\n",
              "\n",
              "    .dataframe tbody tr th {\n",
              "        vertical-align: top;\n",
              "    }\n",
              "\n",
              "    .dataframe thead th {\n",
              "        text-align: right;\n",
              "    }\n",
              "</style>\n",
              "<table border=\"1\" class=\"dataframe\">\n",
              "  <thead>\n",
              "    <tr style=\"text-align: right;\">\n",
              "      <th></th>\n",
              "      <th>duration</th>\n",
              "      <th>src_bytes</th>\n",
              "      <th>dst_bytes</th>\n",
              "      <th>wrong_fragment</th>\n",
              "      <th>urgent</th>\n",
              "    </tr>\n",
              "  </thead>\n",
              "  <tbody>\n",
              "    <tr>\n",
              "      <th>count</th>\n",
              "      <td>3.458140e+05</td>\n",
              "      <td>3.458140e+05</td>\n",
              "      <td>3.458140e+05</td>\n",
              "      <td>3.458140e+05</td>\n",
              "      <td>3.458140e+05</td>\n",
              "    </tr>\n",
              "    <tr>\n",
              "      <th>mean</th>\n",
              "      <td>1.531748e-15</td>\n",
              "      <td>-7.520455e-15</td>\n",
              "      <td>-3.235557e-15</td>\n",
              "      <td>-6.019334e-16</td>\n",
              "      <td>-5.885291e-15</td>\n",
              "    </tr>\n",
              "    <tr>\n",
              "      <th>std</th>\n",
              "      <td>1.000001e+00</td>\n",
              "      <td>1.000001e+00</td>\n",
              "      <td>1.000001e+00</td>\n",
              "      <td>1.000001e+00</td>\n",
              "      <td>1.000001e+00</td>\n",
              "    </tr>\n",
              "    <tr>\n",
              "      <th>min</th>\n",
              "      <td>-6.800432e-02</td>\n",
              "      <td>-2.740261e-02</td>\n",
              "      <td>-2.552207e-02</td>\n",
              "      <td>-4.768181e-02</td>\n",
              "      <td>-2.776929e-03</td>\n",
              "    </tr>\n",
              "    <tr>\n",
              "      <th>25%</th>\n",
              "      <td>-6.800432e-02</td>\n",
              "      <td>-2.665607e-02</td>\n",
              "      <td>-2.552207e-02</td>\n",
              "      <td>-4.768181e-02</td>\n",
              "      <td>-2.776929e-03</td>\n",
              "    </tr>\n",
              "    <tr>\n",
              "      <th>50%</th>\n",
              "      <td>-6.800432e-02</td>\n",
              "      <td>-1.877589e-02</td>\n",
              "      <td>-2.552207e-02</td>\n",
              "      <td>-4.768181e-02</td>\n",
              "      <td>-2.776929e-03</td>\n",
              "    </tr>\n",
              "    <tr>\n",
              "      <th>75%</th>\n",
              "      <td>-6.800432e-02</td>\n",
              "      <td>-1.028188e-02</td>\n",
              "      <td>-2.552207e-02</td>\n",
              "      <td>-4.768181e-02</td>\n",
              "      <td>-2.776929e-03</td>\n",
              "    </tr>\n",
              "    <tr>\n",
              "      <th>max</th>\n",
              "      <td>8.325987e+01</td>\n",
              "      <td>8.517278e+01</td>\n",
              "      <td>1.433012e+02</td>\n",
              "      <td>2.218473e+01</td>\n",
              "      <td>4.801477e+02</td>\n",
              "    </tr>\n",
              "  </tbody>\n",
              "</table>\n",
              "</div>"
            ],
            "text/plain": [
              "           duration     src_bytes     dst_bytes  wrong_fragment        urgent\n",
              "count  3.458140e+05  3.458140e+05  3.458140e+05    3.458140e+05  3.458140e+05\n",
              "mean   1.531748e-15 -7.520455e-15 -3.235557e-15   -6.019334e-16 -5.885291e-15\n",
              "std    1.000001e+00  1.000001e+00  1.000001e+00    1.000001e+00  1.000001e+00\n",
              "min   -6.800432e-02 -2.740261e-02 -2.552207e-02   -4.768181e-02 -2.776929e-03\n",
              "25%   -6.800432e-02 -2.665607e-02 -2.552207e-02   -4.768181e-02 -2.776929e-03\n",
              "50%   -6.800432e-02 -1.877589e-02 -2.552207e-02   -4.768181e-02 -2.776929e-03\n",
              "75%   -6.800432e-02 -1.028188e-02 -2.552207e-02   -4.768181e-02 -2.776929e-03\n",
              "max    8.325987e+01  8.517278e+01  1.433012e+02    2.218473e+01  4.801477e+02"
            ]
          },
          "metadata": {
            "tags": []
          },
          "execution_count": 19
        }
      ]
    },
    {
      "cell_type": "markdown",
      "metadata": {
        "id": "YGaNT_D3JGb8"
      },
      "source": [
        "We run our Kmean algorithm with clusters number between 3 and 40. Then we will use the elbow curve to find the proper Kmean settings in that case"
      ]
    },
    {
      "cell_type": "code",
      "metadata": {
        "colab": {
          "base_uri": "https://localhost:8080/",
          "height": 955
        },
        "id": "0cZXYHIYifiv",
        "outputId": "39843a4c-5b79-4e2a-b75e-34bab1b23a83"
      },
      "source": [
        "number_of_clusters = np.arange(3,20)\n",
        "number_init = 15\n",
        "Kmeans_model(continous_basic_features_centered,number_of_clusters,number_init)"
      ],
      "execution_count": null,
      "outputs": [
        {
          "output_type": "stream",
          "text": [
            "3\n",
            "4\n",
            "5\n",
            "6\n",
            "7\n",
            "8\n",
            "9\n",
            "10\n",
            "11\n",
            "12\n",
            "13\n",
            "14\n",
            "15\n",
            "16\n",
            "17\n",
            "18\n",
            "19\n"
          ],
          "name": "stdout"
        },
        {
          "output_type": "execute_result",
          "data": {
            "text/plain": [
              "[1064632.7916982123,\n",
              " 757242.266714223,\n",
              " 459582.71941000293,\n",
              " 219924.3026975191,\n",
              " 168942.0718803613,\n",
              " 130517.40149562588,\n",
              " 97075.6981254804,\n",
              " 72977.04021491416,\n",
              " 55404.61390777073,\n",
              " 42364.85468393111,\n",
              " 32381.489974839475,\n",
              " 26766.149261793053,\n",
              " 21451.74134942578,\n",
              " 18337.629925454974,\n",
              " 15270.238885038729,\n",
              " 13445.484845206209,\n",
              " 12092.592230044736]"
            ]
          },
          "metadata": {
            "tags": []
          },
          "execution_count": 20
        },
        {
          "output_type": "display_data",
          "data": {
            "image/png": "[encoded data removed]",
            "text/plain": [
              "<Figure size 1080x360 with 1 Axes>"
            ]
          },
          "metadata": {
            "tags": []
          }
        }
      ]
    },
    {
      "cell_type": "markdown",
      "metadata": {
        "id": "eym-oDPRogkJ"
      },
      "source": [
        "According to the elbow curve plot, **10** clusters is sufficient "
      ]
    },
    {
      "cell_type": "markdown",
      "metadata": {
        "id": "K-cbzNAmJhYY"
      },
      "source": [
        "We dive deeper into clustters information in order to highlight unproper behaviours in our clusters."
      ]
    },
    {
      "cell_type": "code",
      "metadata": {
        "colab": {
          "base_uri": "https://localhost:8080/"
        },
        "id": "EcywixCUscko",
        "outputId": "dc5f99c9-a642-451b-bf07-a8fbab717d71"
      },
      "source": [
        "NB_clusters = 6\n",
        "model = KMeans(n_clusters=NB_clusters, n_init=20)\n",
        "model.fit(continous_basic_features_centered)"
      ],
      "execution_count": null,
      "outputs": [
        {
          "output_type": "execute_result",
          "data": {
            "text/plain": [
              "KMeans(algorithm='auto', copy_x=True, init='k-means++', max_iter=300,\n",
              "       n_clusters=6, n_init=20, n_jobs=None, precompute_distances='auto',\n",
              "       random_state=None, tol=0.0001, verbose=0)"
            ]
          },
          "metadata": {
            "tags": []
          },
          "execution_count": 71
        }
      ]
    },
    {
      "cell_type": "code",
      "metadata": {
        "id": "VMdrWudotW2Q"
      },
      "source": [
        "model_labels = model.labels_\n",
        "cluster_summary = pd.DataFrame(pd.get_dummies(model_labels).sum(), columns=[\"Nb_data_in_cluster\"])\n",
        "cluster_summary[\"Nb_normal_in_cluster\"] = kmean_label_study(train[\"label\"],model_labels,NB_clusters)\n",
        "cluster_summary[\"Nb_anormal_in_cluster\"] = (cluster_summary[\"Nb_data_in_cluster\"] - cluster_summary[\"Nb_normal_in_cluster\"])\n",
        "cluster_summary[\"%_normal_in_cluster\"] = kmean_label_study(train[\"label\"],model_labels,NB_clusters)/cluster_summary[\"Nb_data_in_cluster\"]\n",
        "cluster_summary[\"%_anormal_in_cluster\"] = (cluster_summary[\"Nb_data_in_cluster\"] - cluster_summary[\"Nb_normal_in_cluster\"])/cluster_summary[\"Nb_data_in_cluster\"]\n",
        "cluster_summary[\"%_data_in_the_cluster\"] = cluster_summary[\"Nb_data_in_cluster\"]/len(train)"
      ],
      "execution_count": null,
      "outputs": []
    },
    {
      "cell_type": "code",
      "metadata": {
        "colab": {
          "base_uri": "https://localhost:8080/",
          "height": 235
        },
        "id": "G0LxddP2whDM",
        "outputId": "299ede0b-1924-4708-ed9e-4ceb226b7b58"
      },
      "source": [
        "cluster_summary.head(10)"
      ],
      "execution_count": null,
      "outputs": [
        {
          "output_type": "execute_result",
          "data": {
            "text/html": [
              "<div>\n",
              "<style scoped>\n",
              "    .dataframe tbody tr th:only-of-type {\n",
              "        vertical-align: middle;\n",
              "    }\n",
              "\n",
              "    .dataframe tbody tr th {\n",
              "        vertical-align: top;\n",
              "    }\n",
              "\n",
              "    .dataframe thead th {\n",
              "        text-align: right;\n",
              "    }\n",
              "</style>\n",
              "<table border=\"1\" class=\"dataframe\">\n",
              "  <thead>\n",
              "    <tr style=\"text-align: right;\">\n",
              "      <th></th>\n",
              "      <th>Nb_data_in_cluster</th>\n",
              "      <th>Nb_normal_in_cluster</th>\n",
              "      <th>Nb_anormal_in_cluster</th>\n",
              "      <th>%_normal_in_cluster</th>\n",
              "      <th>%_anormal_in_cluster</th>\n",
              "      <th>%_data_in_the_cluster</th>\n",
              "    </tr>\n",
              "  </thead>\n",
              "  <tbody>\n",
              "    <tr>\n",
              "      <th>0</th>\n",
              "      <td>491980</td>\n",
              "      <td>96321.0</td>\n",
              "      <td>395659.0</td>\n",
              "      <td>0.195782</td>\n",
              "      <td>0.804218</td>\n",
              "      <td>0.995869</td>\n",
              "    </tr>\n",
              "    <tr>\n",
              "      <th>1</th>\n",
              "      <td>23</td>\n",
              "      <td>8.0</td>\n",
              "      <td>15.0</td>\n",
              "      <td>0.347826</td>\n",
              "      <td>0.652174</td>\n",
              "      <td>0.000047</td>\n",
              "    </tr>\n",
              "    <tr>\n",
              "      <th>2</th>\n",
              "      <td>970</td>\n",
              "      <td>0.0</td>\n",
              "      <td>970.0</td>\n",
              "      <td>0.000000</td>\n",
              "      <td>1.000000</td>\n",
              "      <td>0.001963</td>\n",
              "    </tr>\n",
              "    <tr>\n",
              "      <th>3</th>\n",
              "      <td>1</td>\n",
              "      <td>0.0</td>\n",
              "      <td>1.0</td>\n",
              "      <td>0.000000</td>\n",
              "      <td>1.000000</td>\n",
              "      <td>0.000002</td>\n",
              "    </tr>\n",
              "    <tr>\n",
              "      <th>4</th>\n",
              "      <td>2</td>\n",
              "      <td>1.0</td>\n",
              "      <td>1.0</td>\n",
              "      <td>0.500000</td>\n",
              "      <td>0.500000</td>\n",
              "      <td>0.000004</td>\n",
              "    </tr>\n",
              "    <tr>\n",
              "      <th>5</th>\n",
              "      <td>1045</td>\n",
              "      <td>948.0</td>\n",
              "      <td>97.0</td>\n",
              "      <td>0.907177</td>\n",
              "      <td>0.092823</td>\n",
              "      <td>0.002115</td>\n",
              "    </tr>\n",
              "  </tbody>\n",
              "</table>\n",
              "</div>"
            ],
            "text/plain": [
              "   Nb_data_in_cluster  ...  %_data_in_the_cluster\n",
              "0              491980  ...               0.995869\n",
              "1                  23  ...               0.000047\n",
              "2                 970  ...               0.001963\n",
              "3                   1  ...               0.000002\n",
              "4                   2  ...               0.000004\n",
              "5                1045  ...               0.002115\n",
              "\n",
              "[6 rows x 6 columns]"
            ]
          },
          "metadata": {
            "tags": []
          },
          "execution_count": 66
        }
      ]
    },
    {
      "cell_type": "code",
      "metadata": {
        "colab": {
          "base_uri": "https://localhost:8080/",
          "height": 346
        },
        "id": "wmDA3kC-oKLE",
        "outputId": "bcd46a6f-f689-414f-d2fd-6c3ad7f87df9"
      },
      "source": [
        "cluster_summary[[\"%_normal_in_cluster\",\"%_anormal_in_cluster\",\"%_data_in_the_cluster\"]].plot.bar(figsize=(15,5),title=\"percentage of normal and anormal packets in clusters\",xlabel=\"cluster index\",ylabel=\"%\")\n",
        "plt.show()"
      ],
      "execution_count": null,
      "outputs": [
        {
          "output_type": "display_data",
          "data": {
            "image/png": "[encoded data removed]",
            "text/plain": [
              "<Figure size 1080x360 with 1 Axes>"
            ]
          },
          "metadata": {
            "tags": []
          }
        }
      ]
    },
    {
      "cell_type": "markdown",
      "metadata": {
        "id": "TCtcnELFKApA"
      },
      "source": [
        "There we can see that the first cluster is made of plenty of normal data (96321) but it is only a small amount of the total number of data (20%). Thus if we tried to do predection with this setting, we will name data of the first cluster \"anormal data\" and we are going to face an huge number of false alarms. \\\n",
        "Then we think that this setting are not interresting enough. We decided to add more information ( -> more features ) about the data to allow the algorithm to find more clear differences between normal and anormal behaviour.\\\n",
        "As a consequence, we add content features to our study"
      ]
    },
    {
      "cell_type": "markdown",
      "metadata": {
        "id": "zMXH6mrsxLmv"
      },
      "source": [
        "------------------------------------------------------------------------------------------------------------------------------------------------------------------------------------------------------------------------"
      ]
    },
    {
      "cell_type": "markdown",
      "metadata": {
        "id": "j96eC1Rqo5tt"
      },
      "source": [
        "### Basic and content features"
      ]
    },
    {
      "cell_type": "markdown",
      "metadata": {
        "id": "iRAgd19YLy9Y"
      },
      "source": [
        "As we said we add content features to our study"
      ]
    },
    {
      "cell_type": "code",
      "metadata": {
        "colab": {
          "base_uri": "https://localhost:8080/",
          "height": 224
        },
        "id": "TB4hTMKaxdCt",
        "outputId": "d33f0161-a4cf-4823-a779-25d872ed8560"
      },
      "source": [
        "continous_basic_content_feature = train[[\"duration\",\"src_bytes\",\"dst_bytes\",\"wrong_fragment\",\"urgent\",\"hot\",\"num_failed_logins\",\"num_compromised\",\"num_root\",\"num_file_creations\",\"num_shells\",\"num_access_files\",\"num_outbound_cmds\"]]\n",
        "continous_basic_content_feature.head()"
      ],
      "execution_count": null,
      "outputs": [
        {
          "output_type": "execute_result",
          "data": {
            "text/html": [
              "<div>\n",
              "<style scoped>\n",
              "    .dataframe tbody tr th:only-of-type {\n",
              "        vertical-align: middle;\n",
              "    }\n",
              "\n",
              "    .dataframe tbody tr th {\n",
              "        vertical-align: top;\n",
              "    }\n",
              "\n",
              "    .dataframe thead th {\n",
              "        text-align: right;\n",
              "    }\n",
              "</style>\n",
              "<table border=\"1\" class=\"dataframe\">\n",
              "  <thead>\n",
              "    <tr style=\"text-align: right;\">\n",
              "      <th></th>\n",
              "      <th>duration</th>\n",
              "      <th>src_bytes</th>\n",
              "      <th>dst_bytes</th>\n",
              "      <th>wrong_fragment</th>\n",
              "      <th>urgent</th>\n",
              "      <th>hot</th>\n",
              "      <th>num_failed_logins</th>\n",
              "      <th>num_compromised</th>\n",
              "      <th>num_root</th>\n",
              "      <th>num_file_creations</th>\n",
              "      <th>num_shells</th>\n",
              "      <th>num_access_files</th>\n",
              "      <th>num_outbound_cmds</th>\n",
              "    </tr>\n",
              "  </thead>\n",
              "  <tbody>\n",
              "    <tr>\n",
              "      <th>472640</th>\n",
              "      <td>0</td>\n",
              "      <td>0</td>\n",
              "      <td>0</td>\n",
              "      <td>0</td>\n",
              "      <td>0</td>\n",
              "      <td>0</td>\n",
              "      <td>0</td>\n",
              "      <td>0</td>\n",
              "      <td>0</td>\n",
              "      <td>0</td>\n",
              "      <td>0</td>\n",
              "      <td>0</td>\n",
              "      <td>0</td>\n",
              "    </tr>\n",
              "    <tr>\n",
              "      <th>294999</th>\n",
              "      <td>0</td>\n",
              "      <td>1032</td>\n",
              "      <td>0</td>\n",
              "      <td>0</td>\n",
              "      <td>0</td>\n",
              "      <td>0</td>\n",
              "      <td>0</td>\n",
              "      <td>0</td>\n",
              "      <td>0</td>\n",
              "      <td>0</td>\n",
              "      <td>0</td>\n",
              "      <td>0</td>\n",
              "      <td>0</td>\n",
              "    </tr>\n",
              "    <tr>\n",
              "      <th>70003</th>\n",
              "      <td>0</td>\n",
              "      <td>0</td>\n",
              "      <td>0</td>\n",
              "      <td>0</td>\n",
              "      <td>0</td>\n",
              "      <td>0</td>\n",
              "      <td>0</td>\n",
              "      <td>0</td>\n",
              "      <td>0</td>\n",
              "      <td>0</td>\n",
              "      <td>0</td>\n",
              "      <td>0</td>\n",
              "      <td>0</td>\n",
              "    </tr>\n",
              "    <tr>\n",
              "      <th>19739</th>\n",
              "      <td>0</td>\n",
              "      <td>251</td>\n",
              "      <td>12613</td>\n",
              "      <td>0</td>\n",
              "      <td>0</td>\n",
              "      <td>0</td>\n",
              "      <td>0</td>\n",
              "      <td>0</td>\n",
              "      <td>0</td>\n",
              "      <td>0</td>\n",
              "      <td>0</td>\n",
              "      <td>0</td>\n",
              "      <td>0</td>\n",
              "    </tr>\n",
              "    <tr>\n",
              "      <th>349665</th>\n",
              "      <td>0</td>\n",
              "      <td>0</td>\n",
              "      <td>0</td>\n",
              "      <td>0</td>\n",
              "      <td>0</td>\n",
              "      <td>0</td>\n",
              "      <td>0</td>\n",
              "      <td>0</td>\n",
              "      <td>0</td>\n",
              "      <td>0</td>\n",
              "      <td>0</td>\n",
              "      <td>0</td>\n",
              "      <td>0</td>\n",
              "    </tr>\n",
              "  </tbody>\n",
              "</table>\n",
              "</div>"
            ],
            "text/plain": [
              "        duration  src_bytes  ...  num_access_files  num_outbound_cmds\n",
              "472640         0          0  ...                 0                  0\n",
              "294999         0       1032  ...                 0                  0\n",
              "70003          0          0  ...                 0                  0\n",
              "19739          0        251  ...                 0                  0\n",
              "349665         0          0  ...                 0                  0\n",
              "\n",
              "[5 rows x 13 columns]"
            ]
          },
          "metadata": {
            "tags": []
          },
          "execution_count": 75
        }
      ]
    },
    {
      "cell_type": "code",
      "metadata": {
        "colab": {
          "base_uri": "https://localhost:8080/",
          "height": 471
        },
        "id": "TM6O2_0sxT5d",
        "outputId": "4891b6a9-765a-4613-8424-b504aff99986"
      },
      "source": [
        "corr_basic_content_feature = continous_basic_content_feature.corr()\n",
        "plot_corr(corr_basic_content_feature)"
      ],
      "execution_count": null,
      "outputs": [
        {
          "output_type": "display_data",
          "data": {
            "image/png": "[encoded data removed]",
            "text/plain": [
              "<Figure size 576x432 with 2 Axes>"
            ]
          },
          "metadata": {
            "tags": []
          }
        }
      ]
    },
    {
      "cell_type": "markdown",
      "metadata": {
        "id": "8MFadJUzpLHE"
      },
      "source": [
        "strong correlation between columns \"num root\" and \"num compromised\". Thus we drop one of them -> num_root"
      ]
    },
    {
      "cell_type": "code",
      "metadata": {
        "colab": {
          "base_uri": "https://localhost:8080/",
          "height": 400
        },
        "id": "S9-iX6vrzHQZ",
        "outputId": "c339373a-d61b-4d5d-d255-b0c743c57776"
      },
      "source": [
        "continous_basic_content_feature.drop(columns=[\"num_root\"])\n",
        "#we scale the data\n",
        "continous_basic_content_features_centered = pd.DataFrame(scale(continous_basic_content_feature),columns = continous_basic_content_feature.columns)\n",
        "continous_basic_content_features_centered.describe()"
      ],
      "execution_count": null,
      "outputs": [
        {
          "output_type": "execute_result",
          "data": {
            "text/html": [
              "<div>\n",
              "<style scoped>\n",
              "    .dataframe tbody tr th:only-of-type {\n",
              "        vertical-align: middle;\n",
              "    }\n",
              "\n",
              "    .dataframe tbody tr th {\n",
              "        vertical-align: top;\n",
              "    }\n",
              "\n",
              "    .dataframe thead th {\n",
              "        text-align: right;\n",
              "    }\n",
              "</style>\n",
              "<table border=\"1\" class=\"dataframe\">\n",
              "  <thead>\n",
              "    <tr style=\"text-align: right;\">\n",
              "      <th></th>\n",
              "      <th>duration</th>\n",
              "      <th>src_bytes</th>\n",
              "      <th>dst_bytes</th>\n",
              "      <th>wrong_fragment</th>\n",
              "      <th>urgent</th>\n",
              "      <th>hot</th>\n",
              "      <th>num_failed_logins</th>\n",
              "      <th>num_compromised</th>\n",
              "      <th>num_root</th>\n",
              "      <th>num_file_creations</th>\n",
              "      <th>num_shells</th>\n",
              "      <th>num_access_files</th>\n",
              "      <th>num_outbound_cmds</th>\n",
              "    </tr>\n",
              "  </thead>\n",
              "  <tbody>\n",
              "    <tr>\n",
              "      <th>count</th>\n",
              "      <td>3.458140e+05</td>\n",
              "      <td>3.458140e+05</td>\n",
              "      <td>3.458140e+05</td>\n",
              "      <td>3.458140e+05</td>\n",
              "      <td>3.458140e+05</td>\n",
              "      <td>3.458140e+05</td>\n",
              "      <td>3.458140e+05</td>\n",
              "      <td>3.458140e+05</td>\n",
              "      <td>3.458140e+05</td>\n",
              "      <td>3.458140e+05</td>\n",
              "      <td>3.458140e+05</td>\n",
              "      <td>3.458140e+05</td>\n",
              "      <td>345814.0</td>\n",
              "    </tr>\n",
              "    <tr>\n",
              "      <th>mean</th>\n",
              "      <td>-2.671667e-15</td>\n",
              "      <td>-1.915667e-15</td>\n",
              "      <td>-1.311789e-14</td>\n",
              "      <td>-3.580018e-15</td>\n",
              "      <td>-1.034691e-15</td>\n",
              "      <td>8.665517e-17</td>\n",
              "      <td>7.927275e-16</td>\n",
              "      <td>-2.907913e-15</td>\n",
              "      <td>1.011730e-14</td>\n",
              "      <td>2.544061e-15</td>\n",
              "      <td>1.042946e-14</td>\n",
              "      <td>-5.064409e-15</td>\n",
              "      <td>0.0</td>\n",
              "    </tr>\n",
              "    <tr>\n",
              "      <th>std</th>\n",
              "      <td>1.000001e+00</td>\n",
              "      <td>1.000001e+00</td>\n",
              "      <td>1.000001e+00</td>\n",
              "      <td>1.000001e+00</td>\n",
              "      <td>1.000001e+00</td>\n",
              "      <td>1.000001e+00</td>\n",
              "      <td>1.000001e+00</td>\n",
              "      <td>1.000001e+00</td>\n",
              "      <td>1.000001e+00</td>\n",
              "      <td>1.000001e+00</td>\n",
              "      <td>1.000001e+00</td>\n",
              "      <td>1.000001e+00</td>\n",
              "      <td>0.0</td>\n",
              "    </tr>\n",
              "    <tr>\n",
              "      <th>min</th>\n",
              "      <td>-6.820476e-02</td>\n",
              "      <td>-3.096878e-03</td>\n",
              "      <td>-2.630909e-02</td>\n",
              "      <td>-4.822317e-02</td>\n",
              "      <td>-3.073500e-03</td>\n",
              "      <td>-4.424225e-02</td>\n",
              "      <td>-1.044114e-02</td>\n",
              "      <td>-5.975146e-03</td>\n",
              "      <td>-5.925724e-03</td>\n",
              "      <td>-1.256615e-02</td>\n",
              "      <td>-9.636660e-03</td>\n",
              "      <td>-2.785921e-02</td>\n",
              "      <td>0.0</td>\n",
              "    </tr>\n",
              "    <tr>\n",
              "      <th>25%</th>\n",
              "      <td>-6.820476e-02</td>\n",
              "      <td>-3.059609e-03</td>\n",
              "      <td>-2.630909e-02</td>\n",
              "      <td>-4.822317e-02</td>\n",
              "      <td>-3.073500e-03</td>\n",
              "      <td>-4.424225e-02</td>\n",
              "      <td>-1.044114e-02</td>\n",
              "      <td>-5.975146e-03</td>\n",
              "      <td>-5.925724e-03</td>\n",
              "      <td>-1.256615e-02</td>\n",
              "      <td>-9.636660e-03</td>\n",
              "      <td>-2.785921e-02</td>\n",
              "      <td>0.0</td>\n",
              "    </tr>\n",
              "    <tr>\n",
              "      <th>50%</th>\n",
              "      <td>-6.820476e-02</td>\n",
              "      <td>-2.656425e-03</td>\n",
              "      <td>-2.630909e-02</td>\n",
              "      <td>-4.822317e-02</td>\n",
              "      <td>-3.073500e-03</td>\n",
              "      <td>-4.424225e-02</td>\n",
              "      <td>-1.044114e-02</td>\n",
              "      <td>-5.975146e-03</td>\n",
              "      <td>-5.925724e-03</td>\n",
              "      <td>-1.256615e-02</td>\n",
              "      <td>-9.636660e-03</td>\n",
              "      <td>-2.785921e-02</td>\n",
              "      <td>0.0</td>\n",
              "    </tr>\n",
              "    <tr>\n",
              "      <th>75%</th>\n",
              "      <td>-6.820476e-02</td>\n",
              "      <td>-2.222748e-03</td>\n",
              "      <td>-2.630909e-02</td>\n",
              "      <td>-4.822317e-02</td>\n",
              "      <td>-3.073500e-03</td>\n",
              "      <td>-4.424225e-02</td>\n",
              "      <td>-1.044114e-02</td>\n",
              "      <td>-5.975146e-03</td>\n",
              "      <td>-5.925724e-03</td>\n",
              "      <td>-1.256615e-02</td>\n",
              "      <td>-9.636660e-03</td>\n",
              "      <td>-2.785921e-02</td>\n",
              "      <td>0.0</td>\n",
              "    </tr>\n",
              "    <tr>\n",
              "      <th>max</th>\n",
              "      <td>8.133409e+01</td>\n",
              "      <td>5.873031e+02</td>\n",
              "      <td>1.570270e+02</td>\n",
              "      <td>2.185578e+01</td>\n",
              "      <td>4.555080e+02</td>\n",
              "      <td>3.876094e+01</td>\n",
              "      <td>2.831812e+02</td>\n",
              "      <td>5.178844e+02</td>\n",
              "      <td>5.202840e+02</td>\n",
              "      <td>2.870809e+02</td>\n",
              "      <td>1.960193e+02</td>\n",
              "      <td>2.189291e+02</td>\n",
              "      <td>0.0</td>\n",
              "    </tr>\n",
              "  </tbody>\n",
              "</table>\n",
              "</div>"
            ],
            "text/plain": [
              "           duration     src_bytes  ...  num_access_files  num_outbound_cmds\n",
              "count  3.458140e+05  3.458140e+05  ...      3.458140e+05           345814.0\n",
              "mean  -2.671667e-15 -1.915667e-15  ...     -5.064409e-15                0.0\n",
              "std    1.000001e+00  1.000001e+00  ...      1.000001e+00                0.0\n",
              "min   -6.820476e-02 -3.096878e-03  ...     -2.785921e-02                0.0\n",
              "25%   -6.820476e-02 -3.059609e-03  ...     -2.785921e-02                0.0\n",
              "50%   -6.820476e-02 -2.656425e-03  ...     -2.785921e-02                0.0\n",
              "75%   -6.820476e-02 -2.222748e-03  ...     -2.785921e-02                0.0\n",
              "max    8.133409e+01  5.873031e+02  ...      2.189291e+02                0.0\n",
              "\n",
              "[8 rows x 13 columns]"
            ]
          },
          "metadata": {
            "tags": []
          },
          "execution_count": 77
        }
      ]
    },
    {
      "cell_type": "markdown",
      "metadata": {
        "id": "V-gSVbDspZkE"
      },
      "source": [
        "\"num outbounds cmds\" column is made of 0. It adds no information. Thus we dropp it"
      ]
    },
    {
      "cell_type": "code",
      "metadata": {
        "colab": {
          "base_uri": "https://localhost:8080/",
          "height": 438
        },
        "id": "1S41S3NTz-Ko",
        "outputId": "958b9c23-9f7b-4c82-c22a-c2a8f4620b9b"
      },
      "source": [
        "continous_basic_content_features_centered.drop(columns=[\"num_outbound_cmds\"])"
      ],
      "execution_count": null,
      "outputs": [
        {
          "output_type": "execute_result",
          "data": {
            "text/html": [
              "<div>\n",
              "<style scoped>\n",
              "    .dataframe tbody tr th:only-of-type {\n",
              "        vertical-align: middle;\n",
              "    }\n",
              "\n",
              "    .dataframe tbody tr th {\n",
              "        vertical-align: top;\n",
              "    }\n",
              "\n",
              "    .dataframe thead th {\n",
              "        text-align: right;\n",
              "    }\n",
              "</style>\n",
              "<table border=\"1\" class=\"dataframe\">\n",
              "  <thead>\n",
              "    <tr style=\"text-align: right;\">\n",
              "      <th></th>\n",
              "      <th>duration</th>\n",
              "      <th>src_bytes</th>\n",
              "      <th>dst_bytes</th>\n",
              "      <th>wrong_fragment</th>\n",
              "      <th>urgent</th>\n",
              "      <th>hot</th>\n",
              "      <th>num_failed_logins</th>\n",
              "      <th>num_compromised</th>\n",
              "      <th>num_root</th>\n",
              "      <th>num_file_creations</th>\n",
              "      <th>num_shells</th>\n",
              "      <th>num_access_files</th>\n",
              "    </tr>\n",
              "  </thead>\n",
              "  <tbody>\n",
              "    <tr>\n",
              "      <th>0</th>\n",
              "      <td>-0.068205</td>\n",
              "      <td>-0.003097</td>\n",
              "      <td>-0.026309</td>\n",
              "      <td>-0.048223</td>\n",
              "      <td>-0.003073</td>\n",
              "      <td>-0.044242</td>\n",
              "      <td>-0.010441</td>\n",
              "      <td>-0.005975</td>\n",
              "      <td>-0.005926</td>\n",
              "      <td>-0.012566</td>\n",
              "      <td>-0.009637</td>\n",
              "      <td>-0.027859</td>\n",
              "    </tr>\n",
              "    <tr>\n",
              "      <th>1</th>\n",
              "      <td>-0.068205</td>\n",
              "      <td>-0.002223</td>\n",
              "      <td>-0.026309</td>\n",
              "      <td>-0.048223</td>\n",
              "      <td>-0.003073</td>\n",
              "      <td>-0.044242</td>\n",
              "      <td>-0.010441</td>\n",
              "      <td>-0.005975</td>\n",
              "      <td>-0.005926</td>\n",
              "      <td>-0.012566</td>\n",
              "      <td>-0.009637</td>\n",
              "      <td>-0.027859</td>\n",
              "    </tr>\n",
              "    <tr>\n",
              "      <th>2</th>\n",
              "      <td>-0.068205</td>\n",
              "      <td>-0.003097</td>\n",
              "      <td>-0.026309</td>\n",
              "      <td>-0.048223</td>\n",
              "      <td>-0.003073</td>\n",
              "      <td>-0.044242</td>\n",
              "      <td>-0.010441</td>\n",
              "      <td>-0.005975</td>\n",
              "      <td>-0.005926</td>\n",
              "      <td>-0.012566</td>\n",
              "      <td>-0.009637</td>\n",
              "      <td>-0.027859</td>\n",
              "    </tr>\n",
              "    <tr>\n",
              "      <th>3</th>\n",
              "      <td>-0.068205</td>\n",
              "      <td>-0.002884</td>\n",
              "      <td>0.357926</td>\n",
              "      <td>-0.048223</td>\n",
              "      <td>-0.003073</td>\n",
              "      <td>-0.044242</td>\n",
              "      <td>-0.010441</td>\n",
              "      <td>-0.005975</td>\n",
              "      <td>-0.005926</td>\n",
              "      <td>-0.012566</td>\n",
              "      <td>-0.009637</td>\n",
              "      <td>-0.027859</td>\n",
              "    </tr>\n",
              "    <tr>\n",
              "      <th>4</th>\n",
              "      <td>-0.068205</td>\n",
              "      <td>-0.003097</td>\n",
              "      <td>-0.026309</td>\n",
              "      <td>-0.048223</td>\n",
              "      <td>-0.003073</td>\n",
              "      <td>-0.044242</td>\n",
              "      <td>-0.010441</td>\n",
              "      <td>-0.005975</td>\n",
              "      <td>-0.005926</td>\n",
              "      <td>-0.012566</td>\n",
              "      <td>-0.009637</td>\n",
              "      <td>-0.027859</td>\n",
              "    </tr>\n",
              "    <tr>\n",
              "      <th>...</th>\n",
              "      <td>...</td>\n",
              "      <td>...</td>\n",
              "      <td>...</td>\n",
              "      <td>...</td>\n",
              "      <td>...</td>\n",
              "      <td>...</td>\n",
              "      <td>...</td>\n",
              "      <td>...</td>\n",
              "      <td>...</td>\n",
              "      <td>...</td>\n",
              "      <td>...</td>\n",
              "      <td>...</td>\n",
              "    </tr>\n",
              "    <tr>\n",
              "      <th>345809</th>\n",
              "      <td>-0.068205</td>\n",
              "      <td>-0.003097</td>\n",
              "      <td>-0.026309</td>\n",
              "      <td>-0.048223</td>\n",
              "      <td>-0.003073</td>\n",
              "      <td>-0.044242</td>\n",
              "      <td>-0.010441</td>\n",
              "      <td>-0.005975</td>\n",
              "      <td>-0.005926</td>\n",
              "      <td>-0.012566</td>\n",
              "      <td>-0.009637</td>\n",
              "      <td>-0.027859</td>\n",
              "    </tr>\n",
              "    <tr>\n",
              "      <th>345810</th>\n",
              "      <td>-0.068205</td>\n",
              "      <td>-0.002883</td>\n",
              "      <td>0.032668</td>\n",
              "      <td>-0.048223</td>\n",
              "      <td>-0.003073</td>\n",
              "      <td>-0.044242</td>\n",
              "      <td>-0.010441</td>\n",
              "      <td>-0.005975</td>\n",
              "      <td>-0.005926</td>\n",
              "      <td>-0.012566</td>\n",
              "      <td>-0.009637</td>\n",
              "      <td>-0.027859</td>\n",
              "    </tr>\n",
              "    <tr>\n",
              "      <th>345811</th>\n",
              "      <td>-0.068205</td>\n",
              "      <td>-0.002656</td>\n",
              "      <td>-0.026309</td>\n",
              "      <td>-0.048223</td>\n",
              "      <td>-0.003073</td>\n",
              "      <td>-0.044242</td>\n",
              "      <td>-0.010441</td>\n",
              "      <td>-0.005975</td>\n",
              "      <td>-0.005926</td>\n",
              "      <td>-0.012566</td>\n",
              "      <td>-0.009637</td>\n",
              "      <td>-0.027859</td>\n",
              "    </tr>\n",
              "    <tr>\n",
              "      <th>345812</th>\n",
              "      <td>-0.068205</td>\n",
              "      <td>-0.003097</td>\n",
              "      <td>-0.026309</td>\n",
              "      <td>-0.048223</td>\n",
              "      <td>-0.003073</td>\n",
              "      <td>-0.044242</td>\n",
              "      <td>-0.010441</td>\n",
              "      <td>-0.005975</td>\n",
              "      <td>-0.005926</td>\n",
              "      <td>-0.012566</td>\n",
              "      <td>-0.009637</td>\n",
              "      <td>-0.027859</td>\n",
              "    </tr>\n",
              "    <tr>\n",
              "      <th>345813</th>\n",
              "      <td>-0.068205</td>\n",
              "      <td>-0.002920</td>\n",
              "      <td>0.018929</td>\n",
              "      <td>-0.048223</td>\n",
              "      <td>-0.003073</td>\n",
              "      <td>-0.044242</td>\n",
              "      <td>-0.010441</td>\n",
              "      <td>-0.005975</td>\n",
              "      <td>-0.005926</td>\n",
              "      <td>-0.012566</td>\n",
              "      <td>-0.009637</td>\n",
              "      <td>-0.027859</td>\n",
              "    </tr>\n",
              "  </tbody>\n",
              "</table>\n",
              "<p>345814 rows × 12 columns</p>\n",
              "</div>"
            ],
            "text/plain": [
              "        duration  src_bytes  ...  num_shells  num_access_files\n",
              "0      -0.068205  -0.003097  ...   -0.009637         -0.027859\n",
              "1      -0.068205  -0.002223  ...   -0.009637         -0.027859\n",
              "2      -0.068205  -0.003097  ...   -0.009637         -0.027859\n",
              "3      -0.068205  -0.002884  ...   -0.009637         -0.027859\n",
              "4      -0.068205  -0.003097  ...   -0.009637         -0.027859\n",
              "...          ...        ...  ...         ...               ...\n",
              "345809 -0.068205  -0.003097  ...   -0.009637         -0.027859\n",
              "345810 -0.068205  -0.002883  ...   -0.009637         -0.027859\n",
              "345811 -0.068205  -0.002656  ...   -0.009637         -0.027859\n",
              "345812 -0.068205  -0.003097  ...   -0.009637         -0.027859\n",
              "345813 -0.068205  -0.002920  ...   -0.009637         -0.027859\n",
              "\n",
              "[345814 rows x 12 columns]"
            ]
          },
          "metadata": {
            "tags": []
          },
          "execution_count": 78
        }
      ]
    },
    {
      "cell_type": "markdown",
      "metadata": {
        "id": "yLVGXCfTL68B"
      },
      "source": [
        "We run our Kmean algorithm with clusters number between 3 and 40. Then we will use the elbow curve to find the proper Kmean settings in that case"
      ]
    },
    {
      "cell_type": "code",
      "metadata": {
        "colab": {
          "base_uri": "https://localhost:8080/",
          "height": 1000
        },
        "id": "cIypD7eH0McM",
        "outputId": "fa8d7338-4739-4976-d0a6-e38637bbfd42"
      },
      "source": [
        "number_of_clusters = np.arange(3,40)\n",
        "number_init = 15\n",
        "Kmeans_model(continous_basic_content_features_centered,number_of_clusters,number_init)"
      ],
      "execution_count": null,
      "outputs": [
        {
          "output_type": "stream",
          "text": [
            "3\n",
            "4\n",
            "5\n",
            "6\n",
            "7\n",
            "8\n",
            "9\n",
            "10\n",
            "11\n",
            "12\n",
            "13\n",
            "14\n",
            "15\n",
            "16\n",
            "17\n",
            "18\n",
            "19\n",
            "20\n",
            "21\n",
            "22\n",
            "23\n",
            "24\n",
            "25\n",
            "26\n",
            "27\n",
            "28\n",
            "29\n",
            "30\n",
            "31\n",
            "32\n",
            "33\n",
            "34\n",
            "35\n",
            "36\n",
            "37\n",
            "38\n",
            "39\n"
          ],
          "name": "stdout"
        },
        {
          "output_type": "execute_result",
          "data": {
            "text/plain": [
              "[4517500.550536748,\n",
              " 4038211.0981171876,\n",
              " 3566011.596733588,\n",
              " 3144079.368414329,\n",
              " 2694824.13219135,\n",
              " 2274445.5847637327,\n",
              " 1885090.406779039,\n",
              " 1504939.7092873512,\n",
              " 1163637.3946921458,\n",
              " 830329.5233433755,\n",
              " 706057.6148951076,\n",
              " 596998.0590384764,\n",
              " 519009.26584305614,\n",
              " 453057.1144352724,\n",
              " 398565.607998971,\n",
              " 362446.9050703288,\n",
              " 322798.1400088812,\n",
              " 289153.0234257868,\n",
              " 263348.12260698585,\n",
              " 238722.1932357103,\n",
              " 219975.92603810047,\n",
              " 200407.69155908836,\n",
              " 181180.98221173463,\n",
              " 167651.72871470108,\n",
              " 156363.24062474843,\n",
              " 134133.86555576505,\n",
              " 126179.78723389606,\n",
              " 112543.68622353813,\n",
              " 104941.47802301926,\n",
              " 95885.25499512615,\n",
              " 89302.70693075935,\n",
              " 83275.43775181446,\n",
              " 74950.14060349215,\n",
              " 68618.24218365832,\n",
              " 65310.76428831604,\n",
              " 58905.04528444295,\n",
              " 55493.344462106084]"
            ]
          },
          "metadata": {
            "tags": []
          },
          "execution_count": 100
        },
        {
          "output_type": "display_data",
          "data": {
            "image/png": "[encoded data removed]",
            "text/plain": [
              "<Figure size 1080x360 with 1 Axes>"
            ]
          },
          "metadata": {
            "tags": []
          }
        }
      ]
    },
    {
      "cell_type": "markdown",
      "metadata": {
        "id": "hMEkiDnipzh5"
      },
      "source": [
        "According to the elbow curve plot, **12** clusters is sufficient"
      ]
    },
    {
      "cell_type": "markdown",
      "metadata": {
        "id": "aiqsSJE5MFJp"
      },
      "source": [
        "We dive deeper into clustters information in order to highlight unproper behaviours in our clusters."
      ]
    },
    {
      "cell_type": "code",
      "metadata": {
        "colab": {
          "base_uri": "https://localhost:8080/"
        },
        "id": "ZIdzZQ5d68df",
        "outputId": "b79271c0-f058-45a9-a77b-3e106ecea024"
      },
      "source": [
        "NB_clusters = 12\n",
        "model = KMeans(n_clusters=NB_clusters, n_init=20)\n",
        "model.fit(continous_basic_content_features_centered)"
      ],
      "execution_count": null,
      "outputs": [
        {
          "output_type": "execute_result",
          "data": {
            "text/plain": [
              "KMeans(algorithm='auto', copy_x=True, init='k-means++', max_iter=300,\n",
              "       n_clusters=12, n_init=20, n_jobs=None, precompute_distances='auto',\n",
              "       random_state=None, tol=0.0001, verbose=0)"
            ]
          },
          "metadata": {
            "tags": []
          },
          "execution_count": 79
        }
      ]
    },
    {
      "cell_type": "code",
      "metadata": {
        "id": "WF9gGZC168Z3"
      },
      "source": [
        "model_labels = model.labels_\n",
        "cluster_summary = pd.DataFrame(pd.get_dummies(model_labels).sum(), columns=[\"Nb_data_in_cluster\"])\n",
        "cluster_summary[\"Nb_normal_in_cluster\"] = kmean_label_study(train[\"label\"],model_labels,NB_clusters)\n",
        "cluster_summary[\"Nb_anormal_in_cluster\"] = (cluster_summary[\"Nb_data_in_cluster\"] - cluster_summary[\"Nb_normal_in_cluster\"])\n",
        "cluster_summary[\"%_normal_in_cluster\"] = kmean_label_study(train[\"label\"],model_labels,NB_clusters)/cluster_summary[\"Nb_data_in_cluster\"]\n",
        "cluster_summary[\"%_anormal_in_cluster\"] = (cluster_summary[\"Nb_data_in_cluster\"] - cluster_summary[\"Nb_normal_in_cluster\"])/cluster_summary[\"Nb_data_in_cluster\"]\n",
        "cluster_summary[\"%_data_in_the_cluster\"] = cluster_summary[\"Nb_data_in_cluster\"]/len(train)"
      ],
      "execution_count": null,
      "outputs": []
    },
    {
      "cell_type": "code",
      "metadata": {
        "colab": {
          "base_uri": "https://localhost:8080/",
          "height": 235
        },
        "id": "-sqmqBsv7CxU",
        "outputId": "8ccb1ca4-27bf-438d-fd39-93a924e38264"
      },
      "source": [
        "cluster_summary.head(NB_clusters)"
      ],
      "execution_count": null,
      "outputs": [
        {
          "output_type": "execute_result",
          "data": {
            "text/html": [
              "<div>\n",
              "<style scoped>\n",
              "    .dataframe tbody tr th:only-of-type {\n",
              "        vertical-align: middle;\n",
              "    }\n",
              "\n",
              "    .dataframe tbody tr th {\n",
              "        vertical-align: top;\n",
              "    }\n",
              "\n",
              "    .dataframe thead th {\n",
              "        text-align: right;\n",
              "    }\n",
              "</style>\n",
              "<table border=\"1\" class=\"dataframe\">\n",
              "  <thead>\n",
              "    <tr style=\"text-align: right;\">\n",
              "      <th></th>\n",
              "      <th>Nb_data_in_cluster</th>\n",
              "      <th>Nb_normal_in_cluster</th>\n",
              "      <th>Nb_anormal_in_cluster</th>\n",
              "      <th>%_normal_in_cluster</th>\n",
              "      <th>%_anormal_in_cluster</th>\n",
              "      <th>%_data_in_the_cluster</th>\n",
              "    </tr>\n",
              "  </thead>\n",
              "  <tbody>\n",
              "    <tr>\n",
              "      <th>0</th>\n",
              "      <td>344318</td>\n",
              "      <td>67485.0</td>\n",
              "      <td>276833.0</td>\n",
              "      <td>0.195996</td>\n",
              "      <td>0.804004</td>\n",
              "      <td>0.995674</td>\n",
              "    </tr>\n",
              "    <tr>\n",
              "      <th>1</th>\n",
              "      <td>1</td>\n",
              "      <td>0.0</td>\n",
              "      <td>1.0</td>\n",
              "      <td>0.000000</td>\n",
              "      <td>1.000000</td>\n",
              "      <td>0.000003</td>\n",
              "    </tr>\n",
              "    <tr>\n",
              "      <th>2</th>\n",
              "      <td>703</td>\n",
              "      <td>0.0</td>\n",
              "      <td>703.0</td>\n",
              "      <td>0.000000</td>\n",
              "      <td>1.000000</td>\n",
              "      <td>0.002033</td>\n",
              "    </tr>\n",
              "    <tr>\n",
              "      <th>3</th>\n",
              "      <td>17</td>\n",
              "      <td>6.0</td>\n",
              "      <td>11.0</td>\n",
              "      <td>0.352941</td>\n",
              "      <td>0.647059</td>\n",
              "      <td>0.000049</td>\n",
              "    </tr>\n",
              "    <tr>\n",
              "      <th>4</th>\n",
              "      <td>2</td>\n",
              "      <td>1.0</td>\n",
              "      <td>1.0</td>\n",
              "      <td>0.500000</td>\n",
              "      <td>0.500000</td>\n",
              "      <td>0.000006</td>\n",
              "    </tr>\n",
              "    <tr>\n",
              "      <th>5</th>\n",
              "      <td>773</td>\n",
              "      <td>701.0</td>\n",
              "      <td>72.0</td>\n",
              "      <td>0.906856</td>\n",
              "      <td>0.093144</td>\n",
              "      <td>0.002235</td>\n",
              "    </tr>\n",
              "  </tbody>\n",
              "</table>\n",
              "</div>"
            ],
            "text/plain": [
              "   Nb_data_in_cluster  ...  %_data_in_the_cluster\n",
              "0              344318  ...               0.995674\n",
              "1                   1  ...               0.000003\n",
              "2                 703  ...               0.002033\n",
              "3                  17  ...               0.000049\n",
              "4                   2  ...               0.000006\n",
              "5                 773  ...               0.002235\n",
              "\n",
              "[6 rows x 6 columns]"
            ]
          },
          "metadata": {
            "tags": []
          },
          "execution_count": 80
        }
      ]
    },
    {
      "cell_type": "code",
      "metadata": {
        "colab": {
          "base_uri": "https://localhost:8080/",
          "height": 346
        },
        "id": "nl3supQNikd4",
        "outputId": "012fe35e-4af4-44cb-cc83-f38e7500d677"
      },
      "source": [
        "cluster_summary[[\"%_normal_in_cluster\",\"%_anormal_in_cluster\",\"%_data_in_the_cluster\"]].plot.bar(figsize=(15,5),title=\"percentage of normal and anormal packets in clusters\",xlabel=\"cluster index\",ylabel=\"%\")\n",
        "plt.show()"
      ],
      "execution_count": null,
      "outputs": [
        {
          "output_type": "display_data",
          "data": {
            "image/png": "[encoded data removed]",
            "text/plain": [
              "<Figure size 1080x360 with 1 Axes>"
            ]
          },
          "metadata": {
            "tags": []
          }
        }
      ]
    },
    {
      "cell_type": "markdown",
      "metadata": {
        "id": "1NazsmPrMdFT"
      },
      "source": [
        "It is the same problem as before with the basic features. As we can see the first cluster is made of plenty of \"normal features\" (67485) but it represents only a small part of the cluster (~20%). \\\n",
        "Thus if we tried to do predection with this setting, we will name data of the first cluster \"anormal data\" and we are going to face an huge number of false alarms. \\\n",
        "Then we think that this setting are also not interresting enough. We decided to add more information ( -> more features ) about the data to allow the algorithm to find more clear differences between normal and anormal behaviour.\\\n",
        "As a consequence, we use all continous data from the KDD-99 dataset.\n"
      ]
    },
    {
      "cell_type": "markdown",
      "metadata": {
        "id": "e_QLgwZVqP7b"
      },
      "source": [
        "\n",
        "\n",
        "---\n",
        "\n"
      ]
    },
    {
      "cell_type": "markdown",
      "metadata": {
        "id": "SIjtLfHAqRS6"
      },
      "source": [
        "### All continous features"
      ]
    },
    {
      "cell_type": "code",
      "metadata": {
        "colab": {
          "base_uri": "https://localhost:8080/",
          "height": 224
        },
        "id": "LEMxO_I6KxJV",
        "outputId": "b41a98b2-7b71-4f56-a7d0-d442772c1202"
      },
      "source": [
        "continous_feature_train = train[[\"count\",\"srv_count\",\"serror_rate\",\"srv_serror_rate\",\"rerror_rate\",\"srv_rerror_rate\",\"same_srv_rate\",\"diff_srv_rate\",\"srv_diff_host_rate\",\"dst_host_count\",\"dst_host_srv_count\",\"dst_host_serror_rate\",\"dst_host_srv_serror_rate\",\"dst_host_rerror_rate\",\"dst_host_srv_rerror_rate\",\"dst_host_same_srv_rate\",\"dst_host_diff_srv_rate\",\"dst_host_srv_diff_host_rate\",\"dst_host_same_src_port_rate\",\"duration\",\"src_bytes\",\"dst_bytes\",\"wrong_fragment\",\"urgent\",\"hot\",\"num_failed_logins\",\"num_compromised\",\"num_root\",\"num_file_creations\",\"num_shells\",\"num_access_files\",\"num_outbound_cmds\"]]\n",
        "continous_feature_test = test[[\"count\",\"srv_count\",\"serror_rate\",\"srv_serror_rate\",\"rerror_rate\",\"srv_rerror_rate\",\"same_srv_rate\",\"diff_srv_rate\",\"srv_diff_host_rate\",\"dst_host_count\",\"dst_host_srv_count\",\"dst_host_serror_rate\",\"dst_host_srv_serror_rate\",\"dst_host_rerror_rate\",\"dst_host_srv_rerror_rate\",\"dst_host_same_srv_rate\",\"dst_host_diff_srv_rate\",\"dst_host_srv_diff_host_rate\",\"dst_host_same_src_port_rate\",\"duration\",\"src_bytes\",\"dst_bytes\",\"wrong_fragment\",\"urgent\",\"hot\",\"num_failed_logins\",\"num_compromised\",\"num_root\",\"num_file_creations\",\"num_shells\",\"num_access_files\",\"num_outbound_cmds\"]]\n",
        "continous_feature_train.head()"
      ],
      "execution_count": null,
      "outputs": [
        {
          "output_type": "execute_result",
          "data": {
            "text/html": [
              "<div>\n",
              "<style scoped>\n",
              "    .dataframe tbody tr th:only-of-type {\n",
              "        vertical-align: middle;\n",
              "    }\n",
              "\n",
              "    .dataframe tbody tr th {\n",
              "        vertical-align: top;\n",
              "    }\n",
              "\n",
              "    .dataframe thead th {\n",
              "        text-align: right;\n",
              "    }\n",
              "</style>\n",
              "<table border=\"1\" class=\"dataframe\">\n",
              "  <thead>\n",
              "    <tr style=\"text-align: right;\">\n",
              "      <th></th>\n",
              "      <th>count</th>\n",
              "      <th>srv_count</th>\n",
              "      <th>serror_rate</th>\n",
              "      <th>srv_serror_rate</th>\n",
              "      <th>rerror_rate</th>\n",
              "      <th>srv_rerror_rate</th>\n",
              "      <th>same_srv_rate</th>\n",
              "      <th>diff_srv_rate</th>\n",
              "      <th>srv_diff_host_rate</th>\n",
              "      <th>dst_host_count</th>\n",
              "      <th>dst_host_srv_count</th>\n",
              "      <th>dst_host_serror_rate</th>\n",
              "      <th>dst_host_srv_serror_rate</th>\n",
              "      <th>dst_host_rerror_rate</th>\n",
              "      <th>dst_host_srv_rerror_rate</th>\n",
              "      <th>dst_host_same_srv_rate</th>\n",
              "      <th>dst_host_diff_srv_rate</th>\n",
              "      <th>dst_host_srv_diff_host_rate</th>\n",
              "      <th>dst_host_same_src_port_rate</th>\n",
              "      <th>duration</th>\n",
              "      <th>src_bytes</th>\n",
              "      <th>dst_bytes</th>\n",
              "      <th>wrong_fragment</th>\n",
              "      <th>urgent</th>\n",
              "      <th>hot</th>\n",
              "      <th>num_failed_logins</th>\n",
              "      <th>num_compromised</th>\n",
              "      <th>num_root</th>\n",
              "      <th>num_file_creations</th>\n",
              "      <th>num_shells</th>\n",
              "      <th>num_access_files</th>\n",
              "      <th>num_outbound_cmds</th>\n",
              "    </tr>\n",
              "  </thead>\n",
              "  <tbody>\n",
              "    <tr>\n",
              "      <th>442571</th>\n",
              "      <td>511</td>\n",
              "      <td>511</td>\n",
              "      <td>0.0</td>\n",
              "      <td>0.0</td>\n",
              "      <td>0.0</td>\n",
              "      <td>0.0</td>\n",
              "      <td>1.0</td>\n",
              "      <td>0.0</td>\n",
              "      <td>0.0</td>\n",
              "      <td>255</td>\n",
              "      <td>255</td>\n",
              "      <td>0.0</td>\n",
              "      <td>0.0</td>\n",
              "      <td>0.0</td>\n",
              "      <td>0.0</td>\n",
              "      <td>1.0</td>\n",
              "      <td>0.0</td>\n",
              "      <td>0.0</td>\n",
              "      <td>1.0</td>\n",
              "      <td>0</td>\n",
              "      <td>520</td>\n",
              "      <td>0</td>\n",
              "      <td>0</td>\n",
              "      <td>0</td>\n",
              "      <td>0</td>\n",
              "      <td>0</td>\n",
              "      <td>0</td>\n",
              "      <td>0</td>\n",
              "      <td>0</td>\n",
              "      <td>0</td>\n",
              "      <td>0</td>\n",
              "      <td>0</td>\n",
              "    </tr>\n",
              "    <tr>\n",
              "      <th>488808</th>\n",
              "      <td>511</td>\n",
              "      <td>511</td>\n",
              "      <td>0.0</td>\n",
              "      <td>0.0</td>\n",
              "      <td>0.0</td>\n",
              "      <td>0.0</td>\n",
              "      <td>1.0</td>\n",
              "      <td>0.0</td>\n",
              "      <td>0.0</td>\n",
              "      <td>255</td>\n",
              "      <td>255</td>\n",
              "      <td>0.0</td>\n",
              "      <td>0.0</td>\n",
              "      <td>0.0</td>\n",
              "      <td>0.0</td>\n",
              "      <td>1.0</td>\n",
              "      <td>0.0</td>\n",
              "      <td>0.0</td>\n",
              "      <td>1.0</td>\n",
              "      <td>0</td>\n",
              "      <td>1032</td>\n",
              "      <td>0</td>\n",
              "      <td>0</td>\n",
              "      <td>0</td>\n",
              "      <td>0</td>\n",
              "      <td>0</td>\n",
              "      <td>0</td>\n",
              "      <td>0</td>\n",
              "      <td>0</td>\n",
              "      <td>0</td>\n",
              "      <td>0</td>\n",
              "      <td>0</td>\n",
              "    </tr>\n",
              "    <tr>\n",
              "      <th>442467</th>\n",
              "      <td>511</td>\n",
              "      <td>511</td>\n",
              "      <td>0.0</td>\n",
              "      <td>0.0</td>\n",
              "      <td>0.0</td>\n",
              "      <td>0.0</td>\n",
              "      <td>1.0</td>\n",
              "      <td>0.0</td>\n",
              "      <td>0.0</td>\n",
              "      <td>255</td>\n",
              "      <td>255</td>\n",
              "      <td>0.0</td>\n",
              "      <td>0.0</td>\n",
              "      <td>0.0</td>\n",
              "      <td>0.0</td>\n",
              "      <td>1.0</td>\n",
              "      <td>0.0</td>\n",
              "      <td>0.0</td>\n",
              "      <td>1.0</td>\n",
              "      <td>0</td>\n",
              "      <td>520</td>\n",
              "      <td>0</td>\n",
              "      <td>0</td>\n",
              "      <td>0</td>\n",
              "      <td>0</td>\n",
              "      <td>0</td>\n",
              "      <td>0</td>\n",
              "      <td>0</td>\n",
              "      <td>0</td>\n",
              "      <td>0</td>\n",
              "      <td>0</td>\n",
              "      <td>0</td>\n",
              "    </tr>\n",
              "    <tr>\n",
              "      <th>208240</th>\n",
              "      <td>511</td>\n",
              "      <td>511</td>\n",
              "      <td>0.0</td>\n",
              "      <td>0.0</td>\n",
              "      <td>0.0</td>\n",
              "      <td>0.0</td>\n",
              "      <td>1.0</td>\n",
              "      <td>0.0</td>\n",
              "      <td>0.0</td>\n",
              "      <td>255</td>\n",
              "      <td>255</td>\n",
              "      <td>0.0</td>\n",
              "      <td>0.0</td>\n",
              "      <td>0.0</td>\n",
              "      <td>0.0</td>\n",
              "      <td>1.0</td>\n",
              "      <td>0.0</td>\n",
              "      <td>0.0</td>\n",
              "      <td>1.0</td>\n",
              "      <td>0</td>\n",
              "      <td>1032</td>\n",
              "      <td>0</td>\n",
              "      <td>0</td>\n",
              "      <td>0</td>\n",
              "      <td>0</td>\n",
              "      <td>0</td>\n",
              "      <td>0</td>\n",
              "      <td>0</td>\n",
              "      <td>0</td>\n",
              "      <td>0</td>\n",
              "      <td>0</td>\n",
              "      <td>0</td>\n",
              "    </tr>\n",
              "    <tr>\n",
              "      <th>332029</th>\n",
              "      <td>511</td>\n",
              "      <td>511</td>\n",
              "      <td>0.0</td>\n",
              "      <td>0.0</td>\n",
              "      <td>0.0</td>\n",
              "      <td>0.0</td>\n",
              "      <td>1.0</td>\n",
              "      <td>0.0</td>\n",
              "      <td>0.0</td>\n",
              "      <td>255</td>\n",
              "      <td>255</td>\n",
              "      <td>0.0</td>\n",
              "      <td>0.0</td>\n",
              "      <td>0.0</td>\n",
              "      <td>0.0</td>\n",
              "      <td>1.0</td>\n",
              "      <td>0.0</td>\n",
              "      <td>0.0</td>\n",
              "      <td>1.0</td>\n",
              "      <td>0</td>\n",
              "      <td>1032</td>\n",
              "      <td>0</td>\n",
              "      <td>0</td>\n",
              "      <td>0</td>\n",
              "      <td>0</td>\n",
              "      <td>0</td>\n",
              "      <td>0</td>\n",
              "      <td>0</td>\n",
              "      <td>0</td>\n",
              "      <td>0</td>\n",
              "      <td>0</td>\n",
              "      <td>0</td>\n",
              "    </tr>\n",
              "  </tbody>\n",
              "</table>\n",
              "</div>"
            ],
            "text/plain": [
              "        count  srv_count  ...  num_access_files  num_outbound_cmds\n",
              "442571    511        511  ...                 0                  0\n",
              "488808    511        511  ...                 0                  0\n",
              "442467    511        511  ...                 0                  0\n",
              "208240    511        511  ...                 0                  0\n",
              "332029    511        511  ...                 0                  0\n",
              "\n",
              "[5 rows x 32 columns]"
            ]
          },
          "metadata": {
            "tags": []
          },
          "execution_count": 21
        }
      ]
    },
    {
      "cell_type": "code",
      "metadata": {
        "colab": {
          "base_uri": "https://localhost:8080/",
          "height": 508
        },
        "id": "07c2PrRnLJEw",
        "outputId": "6eeb6b73-74ff-4fa2-d62f-7d6dcb533ba8"
      },
      "source": [
        "corr_continous_feature_train = continous_feature_train.corr()\n",
        "plot_corr(corr_continous_feature_train)"
      ],
      "execution_count": null,
      "outputs": [
        {
          "output_type": "display_data",
          "data": {
            "image/png": "[encoded data removed]",
            "text/plain": [
              "<Figure size 576x432 with 2 Axes>"
            ]
          },
          "metadata": {
            "tags": []
          }
        }
      ]
    },
    {
      "cell_type": "markdown",
      "metadata": {
        "id": "upq1FFk9OeWv"
      },
      "source": [
        "We can see there that there are no correlation between traffic features and the other features. We decided to plot a correlation of the traffic features only to see if interresting things could be find."
      ]
    },
    {
      "cell_type": "code",
      "metadata": {
        "id": "LeHHJgdXhnj-",
        "colab": {
          "base_uri": "https://localhost:8080/",
          "height": 508
        },
        "outputId": "e0d0e8aa-be61-48d2-f2a8-f2d97d865575"
      },
      "source": [
        "traffic_features_train = train[[\"count\",\"srv_count\",\"serror_rate\",\"srv_serror_rate\",\"rerror_rate\",\"srv_rerror_rate\",\"same_srv_rate\",\"diff_srv_rate\",\"srv_diff_host_rate\",\"dst_host_count\",\"dst_host_srv_count\",\"dst_host_serror_rate\",\"dst_host_srv_serror_rate\",\"dst_host_rerror_rate\",\"dst_host_srv_rerror_rate\",\"dst_host_same_srv_rate\",\"dst_host_diff_srv_rate\",\"dst_host_srv_diff_host_rate\",\"dst_host_same_src_port_rate\"]]\n",
        "corr_traffic_features_train = traffic_features_train.corr()\n",
        "plot_corr(corr_traffic_features_train)"
      ],
      "execution_count": null,
      "outputs": [
        {
          "output_type": "display_data",
          "data": {
            "image/png": "[encoded data removed]",
            "text/plain": [
              "<Figure size 576x432 with 2 Axes>"
            ]
          },
          "metadata": {
            "tags": []
          }
        }
      ]
    },
    {
      "cell_type": "markdown",
      "metadata": {
        "id": "a1_zsJ3TO07v"
      },
      "source": [
        "For now, we decided not to study traffic features correlation. Nevertheless, we think that we are going to do it for the metrics evaluation. \\\n",
        "Then we decided to drop the \"num_outbound_cmds\" that adds no more information because there are only zeros in this column."
      ]
    },
    {
      "cell_type": "code",
      "metadata": {
        "colab": {
          "base_uri": "https://localhost:8080/",
          "height": 400
        },
        "id": "9FMBvY7_MxeD",
        "outputId": "aa0a1703-dbc8-4133-c9d6-c2a085d8a264"
      },
      "source": [
        "#we scale train and test data\n",
        "continous_features_centered_train = pd.DataFrame(scale(continous_feature_train),columns = continous_feature_train.columns)\n",
        "\n",
        "continous_features_centered_test = pd.DataFrame(scale(continous_feature_test),columns = continous_feature_test.columns)\n",
        "\n",
        "continous_features_centered_train.describe()"
      ],
      "execution_count": null,
      "outputs": [
        {
          "output_type": "execute_result",
          "data": {
            "text/html": [
              "<div>\n",
              "<style scoped>\n",
              "    .dataframe tbody tr th:only-of-type {\n",
              "        vertical-align: middle;\n",
              "    }\n",
              "\n",
              "    .dataframe tbody tr th {\n",
              "        vertical-align: top;\n",
              "    }\n",
              "\n",
              "    .dataframe thead th {\n",
              "        text-align: right;\n",
              "    }\n",
              "</style>\n",
              "<table border=\"1\" class=\"dataframe\">\n",
              "  <thead>\n",
              "    <tr style=\"text-align: right;\">\n",
              "      <th></th>\n",
              "      <th>count</th>\n",
              "      <th>srv_count</th>\n",
              "      <th>serror_rate</th>\n",
              "      <th>srv_serror_rate</th>\n",
              "      <th>rerror_rate</th>\n",
              "      <th>srv_rerror_rate</th>\n",
              "      <th>same_srv_rate</th>\n",
              "      <th>diff_srv_rate</th>\n",
              "      <th>srv_diff_host_rate</th>\n",
              "      <th>dst_host_count</th>\n",
              "      <th>dst_host_srv_count</th>\n",
              "      <th>dst_host_serror_rate</th>\n",
              "      <th>dst_host_srv_serror_rate</th>\n",
              "      <th>dst_host_rerror_rate</th>\n",
              "      <th>dst_host_srv_rerror_rate</th>\n",
              "      <th>dst_host_same_srv_rate</th>\n",
              "      <th>dst_host_diff_srv_rate</th>\n",
              "      <th>dst_host_srv_diff_host_rate</th>\n",
              "      <th>dst_host_same_src_port_rate</th>\n",
              "      <th>duration</th>\n",
              "      <th>src_bytes</th>\n",
              "      <th>dst_bytes</th>\n",
              "      <th>wrong_fragment</th>\n",
              "      <th>urgent</th>\n",
              "      <th>hot</th>\n",
              "      <th>num_failed_logins</th>\n",
              "      <th>num_compromised</th>\n",
              "      <th>num_root</th>\n",
              "      <th>num_file_creations</th>\n",
              "      <th>num_shells</th>\n",
              "      <th>num_access_files</th>\n",
              "      <th>num_outbound_cmds</th>\n",
              "    </tr>\n",
              "  </thead>\n",
              "  <tbody>\n",
              "    <tr>\n",
              "      <th>count</th>\n",
              "      <td>3.458140e+05</td>\n",
              "      <td>3.458140e+05</td>\n",
              "      <td>3.458140e+05</td>\n",
              "      <td>3.458140e+05</td>\n",
              "      <td>3.458140e+05</td>\n",
              "      <td>3.458140e+05</td>\n",
              "      <td>3.458140e+05</td>\n",
              "      <td>3.458140e+05</td>\n",
              "      <td>3.458140e+05</td>\n",
              "      <td>3.458140e+05</td>\n",
              "      <td>3.458140e+05</td>\n",
              "      <td>3.458140e+05</td>\n",
              "      <td>3.458140e+05</td>\n",
              "      <td>3.458140e+05</td>\n",
              "      <td>3.458140e+05</td>\n",
              "      <td>3.458140e+05</td>\n",
              "      <td>3.458140e+05</td>\n",
              "      <td>3.458140e+05</td>\n",
              "      <td>3.458140e+05</td>\n",
              "      <td>3.458140e+05</td>\n",
              "      <td>3.458140e+05</td>\n",
              "      <td>3.458140e+05</td>\n",
              "      <td>3.458140e+05</td>\n",
              "      <td>3.458140e+05</td>\n",
              "      <td>3.458140e+05</td>\n",
              "      <td>3.458140e+05</td>\n",
              "      <td>3.458140e+05</td>\n",
              "      <td>3.458140e+05</td>\n",
              "      <td>3.458140e+05</td>\n",
              "      <td>3.458140e+05</td>\n",
              "      <td>3.458140e+05</td>\n",
              "      <td>345814.0</td>\n",
              "    </tr>\n",
              "    <tr>\n",
              "      <th>mean</th>\n",
              "      <td>1.095979e-15</td>\n",
              "      <td>2.780541e-15</td>\n",
              "      <td>6.111909e-16</td>\n",
              "      <td>1.429937e-15</td>\n",
              "      <td>-6.843572e-15</td>\n",
              "      <td>4.389794e-15</td>\n",
              "      <td>3.984087e-15</td>\n",
              "      <td>7.119124e-15</td>\n",
              "      <td>1.795193e-15</td>\n",
              "      <td>1.632829e-15</td>\n",
              "      <td>-2.575451e-15</td>\n",
              "      <td>1.851084e-15</td>\n",
              "      <td>2.875097e-15</td>\n",
              "      <td>6.719185e-15</td>\n",
              "      <td>4.580006e-15</td>\n",
              "      <td>4.691370e-15</td>\n",
              "      <td>2.110344e-15</td>\n",
              "      <td>-4.461304e-15</td>\n",
              "      <td>2.513115e-15</td>\n",
              "      <td>1.531748e-15</td>\n",
              "      <td>-7.520455e-15</td>\n",
              "      <td>-3.235557e-15</td>\n",
              "      <td>-6.019334e-16</td>\n",
              "      <td>-5.885291e-15</td>\n",
              "      <td>2.565868e-15</td>\n",
              "      <td>4.647259e-15</td>\n",
              "      <td>7.277088e-15</td>\n",
              "      <td>4.629915e-15</td>\n",
              "      <td>-2.860786e-15</td>\n",
              "      <td>1.062468e-14</td>\n",
              "      <td>3.770337e-15</td>\n",
              "      <td>0.0</td>\n",
              "    </tr>\n",
              "    <tr>\n",
              "      <th>std</th>\n",
              "      <td>1.000001e+00</td>\n",
              "      <td>1.000001e+00</td>\n",
              "      <td>1.000001e+00</td>\n",
              "      <td>1.000001e+00</td>\n",
              "      <td>1.000001e+00</td>\n",
              "      <td>1.000001e+00</td>\n",
              "      <td>1.000001e+00</td>\n",
              "      <td>1.000001e+00</td>\n",
              "      <td>1.000001e+00</td>\n",
              "      <td>1.000001e+00</td>\n",
              "      <td>1.000001e+00</td>\n",
              "      <td>1.000001e+00</td>\n",
              "      <td>1.000001e+00</td>\n",
              "      <td>1.000001e+00</td>\n",
              "      <td>1.000001e+00</td>\n",
              "      <td>1.000001e+00</td>\n",
              "      <td>1.000001e+00</td>\n",
              "      <td>1.000001e+00</td>\n",
              "      <td>1.000001e+00</td>\n",
              "      <td>1.000001e+00</td>\n",
              "      <td>1.000001e+00</td>\n",
              "      <td>1.000001e+00</td>\n",
              "      <td>1.000001e+00</td>\n",
              "      <td>1.000001e+00</td>\n",
              "      <td>1.000001e+00</td>\n",
              "      <td>1.000001e+00</td>\n",
              "      <td>1.000001e+00</td>\n",
              "      <td>1.000001e+00</td>\n",
              "      <td>1.000001e+00</td>\n",
              "      <td>1.000001e+00</td>\n",
              "      <td>1.000001e+00</td>\n",
              "      <td>0.0</td>\n",
              "    </tr>\n",
              "    <tr>\n",
              "      <th>min</th>\n",
              "      <td>-1.559929e+00</td>\n",
              "      <td>-1.189027e+00</td>\n",
              "      <td>-4.640848e-01</td>\n",
              "      <td>-4.635495e-01</td>\n",
              "      <td>-2.483184e-01</td>\n",
              "      <td>-2.490646e-01</td>\n",
              "      <td>-2.037052e+00</td>\n",
              "      <td>-2.544735e-01</td>\n",
              "      <td>-2.033098e-01</td>\n",
              "      <td>-3.598445e+00</td>\n",
              "      <td>-1.778884e+00</td>\n",
              "      <td>-4.644479e-01</td>\n",
              "      <td>-4.632219e-01</td>\n",
              "      <td>-2.523456e-01</td>\n",
              "      <td>-2.497292e-01</td>\n",
              "      <td>-1.834286e+00</td>\n",
              "      <td>-2.824998e-01</td>\n",
              "      <td>-1.584701e-01</td>\n",
              "      <td>-1.250101e+00</td>\n",
              "      <td>-6.800432e-02</td>\n",
              "      <td>-2.740261e-02</td>\n",
              "      <td>-2.552207e-02</td>\n",
              "      <td>-4.768181e-02</td>\n",
              "      <td>-2.776929e-03</td>\n",
              "      <td>-4.412703e-02</td>\n",
              "      <td>-7.574751e-03</td>\n",
              "      <td>-5.726241e-03</td>\n",
              "      <td>-5.692572e-03</td>\n",
              "      <td>-1.119416e-02</td>\n",
              "      <td>-1.066652e-02</td>\n",
              "      <td>-2.729828e-02</td>\n",
              "      <td>0.0</td>\n",
              "    </tr>\n",
              "    <tr>\n",
              "      <th>25%</th>\n",
              "      <td>-1.010850e+00</td>\n",
              "      <td>-1.148432e+00</td>\n",
              "      <td>-4.640848e-01</td>\n",
              "      <td>-4.635495e-01</td>\n",
              "      <td>-2.483184e-01</td>\n",
              "      <td>-2.490646e-01</td>\n",
              "      <td>5.375573e-01</td>\n",
              "      <td>-2.544735e-01</td>\n",
              "      <td>-2.033098e-01</td>\n",
              "      <td>3.473698e-01</td>\n",
              "      <td>-1.354569e+00</td>\n",
              "      <td>-4.644479e-01</td>\n",
              "      <td>-4.632219e-01</td>\n",
              "      <td>-2.523456e-01</td>\n",
              "      <td>-2.497292e-01</td>\n",
              "      <td>-8.607668e-01</td>\n",
              "      <td>-2.824998e-01</td>\n",
              "      <td>-1.584701e-01</td>\n",
              "      <td>-1.250101e+00</td>\n",
              "      <td>-6.800432e-02</td>\n",
              "      <td>-2.665607e-02</td>\n",
              "      <td>-2.552207e-02</td>\n",
              "      <td>-4.768181e-02</td>\n",
              "      <td>-2.776929e-03</td>\n",
              "      <td>-4.412703e-02</td>\n",
              "      <td>-7.574751e-03</td>\n",
              "      <td>-5.726241e-03</td>\n",
              "      <td>-5.692572e-03</td>\n",
              "      <td>-1.119416e-02</td>\n",
              "      <td>-1.066652e-02</td>\n",
              "      <td>-2.729828e-02</td>\n",
              "      <td>0.0</td>\n",
              "    </tr>\n",
              "    <tr>\n",
              "      <th>50%</th>\n",
              "      <td>8.334908e-01</td>\n",
              "      <td>8.813302e-01</td>\n",
              "      <td>-4.640848e-01</td>\n",
              "      <td>-4.635495e-01</td>\n",
              "      <td>-2.483184e-01</td>\n",
              "      <td>-2.490646e-01</td>\n",
              "      <td>5.375573e-01</td>\n",
              "      <td>-2.544735e-01</td>\n",
              "      <td>-2.033098e-01</td>\n",
              "      <td>3.473698e-01</td>\n",
              "      <td>6.255655e-01</td>\n",
              "      <td>-4.644479e-01</td>\n",
              "      <td>-4.632219e-01</td>\n",
              "      <td>-2.523456e-01</td>\n",
              "      <td>-2.497292e-01</td>\n",
              "      <td>5.995125e-01</td>\n",
              "      <td>-2.824998e-01</td>\n",
              "      <td>-1.584701e-01</td>\n",
              "      <td>8.273899e-01</td>\n",
              "      <td>-6.800432e-02</td>\n",
              "      <td>-1.877589e-02</td>\n",
              "      <td>-2.552207e-02</td>\n",
              "      <td>-4.768181e-02</td>\n",
              "      <td>-2.776929e-03</td>\n",
              "      <td>-4.412703e-02</td>\n",
              "      <td>-7.574751e-03</td>\n",
              "      <td>-5.726241e-03</td>\n",
              "      <td>-5.692572e-03</td>\n",
              "      <td>-1.119416e-02</td>\n",
              "      <td>-1.066652e-02</td>\n",
              "      <td>-2.729828e-02</td>\n",
              "      <td>0.0</td>\n",
              "    </tr>\n",
              "    <tr>\n",
              "      <th>75%</th>\n",
              "      <td>8.381838e-01</td>\n",
              "      <td>8.853898e-01</td>\n",
              "      <td>-4.640848e-01</td>\n",
              "      <td>-4.635495e-01</td>\n",
              "      <td>-2.483184e-01</td>\n",
              "      <td>-2.490646e-01</td>\n",
              "      <td>5.375573e-01</td>\n",
              "      <td>-2.544735e-01</td>\n",
              "      <td>-2.033098e-01</td>\n",
              "      <td>3.473698e-01</td>\n",
              "      <td>6.255655e-01</td>\n",
              "      <td>-4.644479e-01</td>\n",
              "      <td>-4.632219e-01</td>\n",
              "      <td>-2.523456e-01</td>\n",
              "      <td>-2.497292e-01</td>\n",
              "      <td>5.995125e-01</td>\n",
              "      <td>8.219276e-02</td>\n",
              "      <td>-1.584701e-01</td>\n",
              "      <td>8.273899e-01</td>\n",
              "      <td>-6.800432e-02</td>\n",
              "      <td>-1.028188e-02</td>\n",
              "      <td>-2.552207e-02</td>\n",
              "      <td>-4.768181e-02</td>\n",
              "      <td>-2.776929e-03</td>\n",
              "      <td>-4.412703e-02</td>\n",
              "      <td>-7.574751e-03</td>\n",
              "      <td>-5.726241e-03</td>\n",
              "      <td>-5.692572e-03</td>\n",
              "      <td>-1.119416e-02</td>\n",
              "      <td>-1.066652e-02</td>\n",
              "      <td>-2.729828e-02</td>\n",
              "      <td>0.0</td>\n",
              "    </tr>\n",
              "    <tr>\n",
              "      <th>max</th>\n",
              "      <td>8.381838e-01</td>\n",
              "      <td>8.853898e-01</td>\n",
              "      <td>2.162676e+00</td>\n",
              "      <td>2.161025e+00</td>\n",
              "      <td>4.063877e+00</td>\n",
              "      <td>4.052747e+00</td>\n",
              "      <td>5.375573e-01</td>\n",
              "      <td>1.177416e+01</td>\n",
              "      <td>6.861316e+00</td>\n",
              "      <td>3.473698e-01</td>\n",
              "      <td>6.255655e-01</td>\n",
              "      <td>2.162962e+00</td>\n",
              "      <td>2.161878e+00</td>\n",
              "      <td>4.078887e+00</td>\n",
              "      <td>4.091150e+00</td>\n",
              "      <td>5.995125e-01</td>\n",
              "      <td>8.834814e+00</td>\n",
              "      <td>2.367621e+01</td>\n",
              "      <td>8.273899e-01</td>\n",
              "      <td>8.325987e+01</td>\n",
              "      <td>8.517278e+01</td>\n",
              "      <td>1.433012e+02</td>\n",
              "      <td>2.218473e+01</td>\n",
              "      <td>4.801477e+02</td>\n",
              "      <td>3.821683e+01</td>\n",
              "      <td>3.539728e+02</td>\n",
              "      <td>5.394424e+02</td>\n",
              "      <td>5.367299e+02</td>\n",
              "      <td>2.743957e+02</td>\n",
              "      <td>1.715537e+02</td>\n",
              "      <td>2.163653e+02</td>\n",
              "      <td>0.0</td>\n",
              "    </tr>\n",
              "  </tbody>\n",
              "</table>\n",
              "</div>"
            ],
            "text/plain": [
              "              count     srv_count  ...  num_access_files  num_outbound_cmds\n",
              "count  3.458140e+05  3.458140e+05  ...      3.458140e+05           345814.0\n",
              "mean   1.095979e-15  2.780541e-15  ...      3.770337e-15                0.0\n",
              "std    1.000001e+00  1.000001e+00  ...      1.000001e+00                0.0\n",
              "min   -1.559929e+00 -1.189027e+00  ...     -2.729828e-02                0.0\n",
              "25%   -1.010850e+00 -1.148432e+00  ...     -2.729828e-02                0.0\n",
              "50%    8.334908e-01  8.813302e-01  ...     -2.729828e-02                0.0\n",
              "75%    8.381838e-01  8.853898e-01  ...     -2.729828e-02                0.0\n",
              "max    8.381838e-01  8.853898e-01  ...      2.163653e+02                0.0\n",
              "\n",
              "[8 rows x 32 columns]"
            ]
          },
          "metadata": {
            "tags": []
          },
          "execution_count": 24
        }
      ]
    },
    {
      "cell_type": "code",
      "metadata": {
        "colab": {
          "base_uri": "https://localhost:8080/",
          "height": 438
        },
        "id": "frSCHulBNFSP",
        "outputId": "e2c78f1c-bbc0-4723-b7ec-66471c9b1bac"
      },
      "source": [
        "continous_features_centered_train.drop(columns=[\"num_outbound_cmds\"])\n",
        "continous_features_centered_test.drop(columns=[\"num_outbound_cmds\"])"
      ],
      "execution_count": null,
      "outputs": [
        {
          "output_type": "execute_result",
          "data": {
            "text/html": [
              "<div>\n",
              "<style scoped>\n",
              "    .dataframe tbody tr th:only-of-type {\n",
              "        vertical-align: middle;\n",
              "    }\n",
              "\n",
              "    .dataframe tbody tr th {\n",
              "        vertical-align: top;\n",
              "    }\n",
              "\n",
              "    .dataframe thead th {\n",
              "        text-align: right;\n",
              "    }\n",
              "</style>\n",
              "<table border=\"1\" class=\"dataframe\">\n",
              "  <thead>\n",
              "    <tr style=\"text-align: right;\">\n",
              "      <th></th>\n",
              "      <th>count</th>\n",
              "      <th>srv_count</th>\n",
              "      <th>serror_rate</th>\n",
              "      <th>srv_serror_rate</th>\n",
              "      <th>rerror_rate</th>\n",
              "      <th>srv_rerror_rate</th>\n",
              "      <th>same_srv_rate</th>\n",
              "      <th>diff_srv_rate</th>\n",
              "      <th>srv_diff_host_rate</th>\n",
              "      <th>dst_host_count</th>\n",
              "      <th>dst_host_srv_count</th>\n",
              "      <th>dst_host_serror_rate</th>\n",
              "      <th>dst_host_srv_serror_rate</th>\n",
              "      <th>dst_host_rerror_rate</th>\n",
              "      <th>dst_host_srv_rerror_rate</th>\n",
              "      <th>dst_host_same_srv_rate</th>\n",
              "      <th>dst_host_diff_srv_rate</th>\n",
              "      <th>dst_host_srv_diff_host_rate</th>\n",
              "      <th>dst_host_same_src_port_rate</th>\n",
              "      <th>duration</th>\n",
              "      <th>src_bytes</th>\n",
              "      <th>dst_bytes</th>\n",
              "      <th>wrong_fragment</th>\n",
              "      <th>urgent</th>\n",
              "      <th>hot</th>\n",
              "      <th>num_failed_logins</th>\n",
              "      <th>num_compromised</th>\n",
              "      <th>num_root</th>\n",
              "      <th>num_file_creations</th>\n",
              "      <th>num_shells</th>\n",
              "      <th>num_access_files</th>\n",
              "    </tr>\n",
              "  </thead>\n",
              "  <tbody>\n",
              "    <tr>\n",
              "      <th>0</th>\n",
              "      <td>0.839088</td>\n",
              "      <td>0.885416</td>\n",
              "      <td>-0.464101</td>\n",
              "      <td>-0.463453</td>\n",
              "      <td>-0.247124</td>\n",
              "      <td>-0.247618</td>\n",
              "      <td>0.535657</td>\n",
              "      <td>-0.257249</td>\n",
              "      <td>-0.204402</td>\n",
              "      <td>0.349358</td>\n",
              "      <td>0.625539</td>\n",
              "      <td>-0.464347</td>\n",
              "      <td>-0.463157</td>\n",
              "      <td>-0.251324</td>\n",
              "      <td>-0.248844</td>\n",
              "      <td>0.599125</td>\n",
              "      <td>-0.283751</td>\n",
              "      <td>-0.159007</td>\n",
              "      <td>0.826249</td>\n",
              "      <td>-0.067343</td>\n",
              "      <td>-0.002885</td>\n",
              "      <td>-0.030247</td>\n",
              "      <td>-0.04781</td>\n",
              "      <td>-0.002598</td>\n",
              "      <td>-0.044158</td>\n",
              "      <td>-0.013961</td>\n",
              "      <td>-0.005716</td>\n",
              "      <td>-0.005648</td>\n",
              "      <td>-0.011547</td>\n",
              "      <td>-0.007925</td>\n",
              "      <td>-0.028467</td>\n",
              "    </tr>\n",
              "    <tr>\n",
              "      <th>1</th>\n",
              "      <td>-1.547292</td>\n",
              "      <td>-1.185270</td>\n",
              "      <td>-0.464101</td>\n",
              "      <td>-0.463453</td>\n",
              "      <td>-0.247124</td>\n",
              "      <td>-0.247618</td>\n",
              "      <td>-0.754081</td>\n",
              "      <td>12.243854</td>\n",
              "      <td>-0.204402</td>\n",
              "      <td>0.349358</td>\n",
              "      <td>0.427444</td>\n",
              "      <td>-0.464347</td>\n",
              "      <td>-0.463157</td>\n",
              "      <td>-0.251324</td>\n",
              "      <td>-0.248844</td>\n",
              "      <td>0.404263</td>\n",
              "      <td>-0.191387</td>\n",
              "      <td>-0.159007</td>\n",
              "      <td>-1.251835</td>\n",
              "      <td>-0.067343</td>\n",
              "      <td>-0.003400</td>\n",
              "      <td>-0.024343</td>\n",
              "      <td>-0.04781</td>\n",
              "      <td>-0.002598</td>\n",
              "      <td>-0.044158</td>\n",
              "      <td>-0.013961</td>\n",
              "      <td>-0.005716</td>\n",
              "      <td>-0.005648</td>\n",
              "      <td>-0.011547</td>\n",
              "      <td>-0.007925</td>\n",
              "      <td>-0.028467</td>\n",
              "    </tr>\n",
              "    <tr>\n",
              "      <th>2</th>\n",
              "      <td>0.839088</td>\n",
              "      <td>0.885416</td>\n",
              "      <td>-0.464101</td>\n",
              "      <td>-0.463453</td>\n",
              "      <td>-0.247124</td>\n",
              "      <td>-0.247618</td>\n",
              "      <td>0.535657</td>\n",
              "      <td>-0.257249</td>\n",
              "      <td>-0.204402</td>\n",
              "      <td>0.349358</td>\n",
              "      <td>0.625539</td>\n",
              "      <td>-0.464347</td>\n",
              "      <td>-0.463157</td>\n",
              "      <td>-0.251324</td>\n",
              "      <td>-0.248844</td>\n",
              "      <td>0.599125</td>\n",
              "      <td>-0.283751</td>\n",
              "      <td>-0.159007</td>\n",
              "      <td>0.826249</td>\n",
              "      <td>-0.067343</td>\n",
              "      <td>-0.002885</td>\n",
              "      <td>-0.030247</td>\n",
              "      <td>-0.04781</td>\n",
              "      <td>-0.002598</td>\n",
              "      <td>-0.044158</td>\n",
              "      <td>-0.013961</td>\n",
              "      <td>-0.005716</td>\n",
              "      <td>-0.005648</td>\n",
              "      <td>-0.011547</td>\n",
              "      <td>-0.007925</td>\n",
              "      <td>-0.028467</td>\n",
              "    </tr>\n",
              "    <tr>\n",
              "      <th>3</th>\n",
              "      <td>0.834400</td>\n",
              "      <td>0.881356</td>\n",
              "      <td>-0.464101</td>\n",
              "      <td>-0.463453</td>\n",
              "      <td>-0.247124</td>\n",
              "      <td>-0.247618</td>\n",
              "      <td>0.535657</td>\n",
              "      <td>-0.257249</td>\n",
              "      <td>-0.204402</td>\n",
              "      <td>0.349358</td>\n",
              "      <td>0.625539</td>\n",
              "      <td>-0.464347</td>\n",
              "      <td>-0.463157</td>\n",
              "      <td>-0.251324</td>\n",
              "      <td>-0.248844</td>\n",
              "      <td>0.599125</td>\n",
              "      <td>-0.283751</td>\n",
              "      <td>-0.159007</td>\n",
              "      <td>0.826249</td>\n",
              "      <td>-0.067343</td>\n",
              "      <td>-0.002885</td>\n",
              "      <td>-0.030247</td>\n",
              "      <td>-0.04781</td>\n",
              "      <td>-0.002598</td>\n",
              "      <td>-0.044158</td>\n",
              "      <td>-0.013961</td>\n",
              "      <td>-0.005716</td>\n",
              "      <td>-0.005648</td>\n",
              "      <td>-0.011547</td>\n",
              "      <td>-0.007925</td>\n",
              "      <td>-0.028467</td>\n",
              "    </tr>\n",
              "    <tr>\n",
              "      <th>4</th>\n",
              "      <td>0.839088</td>\n",
              "      <td>0.885416</td>\n",
              "      <td>-0.464101</td>\n",
              "      <td>-0.463453</td>\n",
              "      <td>-0.247124</td>\n",
              "      <td>-0.247618</td>\n",
              "      <td>0.535657</td>\n",
              "      <td>-0.257249</td>\n",
              "      <td>-0.204402</td>\n",
              "      <td>0.349358</td>\n",
              "      <td>0.625539</td>\n",
              "      <td>-0.464347</td>\n",
              "      <td>-0.463157</td>\n",
              "      <td>-0.251324</td>\n",
              "      <td>-0.248844</td>\n",
              "      <td>0.599125</td>\n",
              "      <td>-0.283751</td>\n",
              "      <td>-0.159007</td>\n",
              "      <td>0.826249</td>\n",
              "      <td>-0.067343</td>\n",
              "      <td>-0.002885</td>\n",
              "      <td>-0.030247</td>\n",
              "      <td>-0.04781</td>\n",
              "      <td>-0.002598</td>\n",
              "      <td>-0.044158</td>\n",
              "      <td>-0.013961</td>\n",
              "      <td>-0.005716</td>\n",
              "      <td>-0.005648</td>\n",
              "      <td>-0.011547</td>\n",
              "      <td>-0.007925</td>\n",
              "      <td>-0.028467</td>\n",
              "    </tr>\n",
              "    <tr>\n",
              "      <th>...</th>\n",
              "      <td>...</td>\n",
              "      <td>...</td>\n",
              "      <td>...</td>\n",
              "      <td>...</td>\n",
              "      <td>...</td>\n",
              "      <td>...</td>\n",
              "      <td>...</td>\n",
              "      <td>...</td>\n",
              "      <td>...</td>\n",
              "      <td>...</td>\n",
              "      <td>...</td>\n",
              "      <td>...</td>\n",
              "      <td>...</td>\n",
              "      <td>...</td>\n",
              "      <td>...</td>\n",
              "      <td>...</td>\n",
              "      <td>...</td>\n",
              "      <td>...</td>\n",
              "      <td>...</td>\n",
              "      <td>...</td>\n",
              "      <td>...</td>\n",
              "      <td>...</td>\n",
              "      <td>...</td>\n",
              "      <td>...</td>\n",
              "      <td>...</td>\n",
              "      <td>...</td>\n",
              "      <td>...</td>\n",
              "      <td>...</td>\n",
              "      <td>...</td>\n",
              "      <td>...</td>\n",
              "      <td>...</td>\n",
              "    </tr>\n",
              "    <tr>\n",
              "      <th>148202</th>\n",
              "      <td>0.839088</td>\n",
              "      <td>-1.185270</td>\n",
              "      <td>-0.096418</td>\n",
              "      <td>2.161074</td>\n",
              "      <td>3.476227</td>\n",
              "      <td>-0.247618</td>\n",
              "      <td>-2.043819</td>\n",
              "      <td>12.243854</td>\n",
              "      <td>-0.204402</td>\n",
              "      <td>0.349358</td>\n",
              "      <td>-1.770465</td>\n",
              "      <td>-0.043924</td>\n",
              "      <td>2.162375</td>\n",
              "      <td>3.402336</td>\n",
              "      <td>-0.248844</td>\n",
              "      <td>-1.836646</td>\n",
              "      <td>8.952699</td>\n",
              "      <td>-0.159007</td>\n",
              "      <td>-1.251835</td>\n",
              "      <td>-0.067343</td>\n",
              "      <td>-0.003458</td>\n",
              "      <td>-0.030247</td>\n",
              "      <td>-0.04781</td>\n",
              "      <td>-0.002598</td>\n",
              "      <td>-0.044158</td>\n",
              "      <td>-0.013961</td>\n",
              "      <td>-0.005716</td>\n",
              "      <td>-0.005648</td>\n",
              "      <td>-0.011547</td>\n",
              "      <td>-0.007925</td>\n",
              "      <td>-0.028467</td>\n",
              "    </tr>\n",
              "    <tr>\n",
              "      <th>148203</th>\n",
              "      <td>0.839088</td>\n",
              "      <td>0.885416</td>\n",
              "      <td>-0.464101</td>\n",
              "      <td>-0.463453</td>\n",
              "      <td>-0.247124</td>\n",
              "      <td>-0.247618</td>\n",
              "      <td>0.535657</td>\n",
              "      <td>-0.257249</td>\n",
              "      <td>-0.204402</td>\n",
              "      <td>0.349358</td>\n",
              "      <td>0.625539</td>\n",
              "      <td>-0.464347</td>\n",
              "      <td>-0.463157</td>\n",
              "      <td>-0.251324</td>\n",
              "      <td>-0.248844</td>\n",
              "      <td>0.599125</td>\n",
              "      <td>-0.283751</td>\n",
              "      <td>-0.159007</td>\n",
              "      <td>0.826249</td>\n",
              "      <td>-0.067343</td>\n",
              "      <td>-0.002885</td>\n",
              "      <td>-0.030247</td>\n",
              "      <td>-0.04781</td>\n",
              "      <td>-0.002598</td>\n",
              "      <td>-0.044158</td>\n",
              "      <td>-0.013961</td>\n",
              "      <td>-0.005716</td>\n",
              "      <td>-0.005648</td>\n",
              "      <td>-0.011547</td>\n",
              "      <td>-0.007925</td>\n",
              "      <td>-0.028467</td>\n",
              "    </tr>\n",
              "    <tr>\n",
              "      <th>148204</th>\n",
              "      <td>-1.551981</td>\n",
              "      <td>-1.185270</td>\n",
              "      <td>-0.464101</td>\n",
              "      <td>-0.463453</td>\n",
              "      <td>-0.247124</td>\n",
              "      <td>-0.247618</td>\n",
              "      <td>0.535657</td>\n",
              "      <td>-0.257249</td>\n",
              "      <td>-0.204402</td>\n",
              "      <td>-1.803700</td>\n",
              "      <td>-0.185706</td>\n",
              "      <td>-0.464347</td>\n",
              "      <td>-0.436902</td>\n",
              "      <td>-0.251324</td>\n",
              "      <td>-0.248844</td>\n",
              "      <td>-0.131606</td>\n",
              "      <td>0.085707</td>\n",
              "      <td>0.311103</td>\n",
              "      <td>-1.231055</td>\n",
              "      <td>-0.067343</td>\n",
              "      <td>-0.002790</td>\n",
              "      <td>-0.015627</td>\n",
              "      <td>-0.04781</td>\n",
              "      <td>-0.002598</td>\n",
              "      <td>-0.044158</td>\n",
              "      <td>-0.013961</td>\n",
              "      <td>-0.005716</td>\n",
              "      <td>-0.005648</td>\n",
              "      <td>-0.011547</td>\n",
              "      <td>-0.007925</td>\n",
              "      <td>-0.028467</td>\n",
              "    </tr>\n",
              "    <tr>\n",
              "      <th>148205</th>\n",
              "      <td>-0.168912</td>\n",
              "      <td>-1.116247</td>\n",
              "      <td>2.162210</td>\n",
              "      <td>2.161074</td>\n",
              "      <td>-0.247124</td>\n",
              "      <td>-0.247618</td>\n",
              "      <td>-1.889050</td>\n",
              "      <td>0.492817</td>\n",
              "      <td>-0.204402</td>\n",
              "      <td>0.349358</td>\n",
              "      <td>-1.761032</td>\n",
              "      <td>2.163298</td>\n",
              "      <td>2.162375</td>\n",
              "      <td>-0.251324</td>\n",
              "      <td>-0.248844</td>\n",
              "      <td>-1.812288</td>\n",
              "      <td>0.362800</td>\n",
              "      <td>-0.159007</td>\n",
              "      <td>-1.251835</td>\n",
              "      <td>-0.067343</td>\n",
              "      <td>-0.003458</td>\n",
              "      <td>-0.030247</td>\n",
              "      <td>-0.04781</td>\n",
              "      <td>-0.002598</td>\n",
              "      <td>-0.044158</td>\n",
              "      <td>-0.013961</td>\n",
              "      <td>-0.005716</td>\n",
              "      <td>-0.005648</td>\n",
              "      <td>-0.011547</td>\n",
              "      <td>-0.007925</td>\n",
              "      <td>-0.028467</td>\n",
              "    </tr>\n",
              "    <tr>\n",
              "      <th>148206</th>\n",
              "      <td>-1.533227</td>\n",
              "      <td>-1.169029</td>\n",
              "      <td>-0.464101</td>\n",
              "      <td>-0.463453</td>\n",
              "      <td>-0.247124</td>\n",
              "      <td>-0.247618</td>\n",
              "      <td>0.535657</td>\n",
              "      <td>-0.257249</td>\n",
              "      <td>-0.204402</td>\n",
              "      <td>-3.495388</td>\n",
              "      <td>0.625539</td>\n",
              "      <td>-0.464347</td>\n",
              "      <td>-0.463157</td>\n",
              "      <td>-0.251324</td>\n",
              "      <td>-0.205292</td>\n",
              "      <td>0.599125</td>\n",
              "      <td>-0.283751</td>\n",
              "      <td>0.311103</td>\n",
              "      <td>-0.836218</td>\n",
              "      <td>-0.067343</td>\n",
              "      <td>-0.003354</td>\n",
              "      <td>1.568679</td>\n",
              "      <td>-0.04781</td>\n",
              "      <td>-0.002598</td>\n",
              "      <td>-0.044158</td>\n",
              "      <td>-0.013961</td>\n",
              "      <td>-0.005716</td>\n",
              "      <td>-0.005648</td>\n",
              "      <td>-0.011547</td>\n",
              "      <td>-0.007925</td>\n",
              "      <td>-0.028467</td>\n",
              "    </tr>\n",
              "  </tbody>\n",
              "</table>\n",
              "<p>148207 rows × 31 columns</p>\n",
              "</div>"
            ],
            "text/plain": [
              "           count  srv_count  ...  num_shells  num_access_files\n",
              "0       0.839088   0.885416  ...   -0.007925         -0.028467\n",
              "1      -1.547292  -1.185270  ...   -0.007925         -0.028467\n",
              "2       0.839088   0.885416  ...   -0.007925         -0.028467\n",
              "3       0.834400   0.881356  ...   -0.007925         -0.028467\n",
              "4       0.839088   0.885416  ...   -0.007925         -0.028467\n",
              "...          ...        ...  ...         ...               ...\n",
              "148202  0.839088  -1.185270  ...   -0.007925         -0.028467\n",
              "148203  0.839088   0.885416  ...   -0.007925         -0.028467\n",
              "148204 -1.551981  -1.185270  ...   -0.007925         -0.028467\n",
              "148205 -0.168912  -1.116247  ...   -0.007925         -0.028467\n",
              "148206 -1.533227  -1.169029  ...   -0.007925         -0.028467\n",
              "\n",
              "[148207 rows x 31 columns]"
            ]
          },
          "metadata": {
            "tags": []
          },
          "execution_count": 25
        }
      ]
    },
    {
      "cell_type": "code",
      "metadata": {
        "colab": {
          "base_uri": "https://localhost:8080/",
          "height": 1000
        },
        "id": "hEFa-IgxNM59",
        "outputId": "56073b74-2853-49c0-8c82-0f82a2e645a2"
      },
      "source": [
        "number_of_clusters = np.arange(15,50)\n",
        "number_init = 15\n",
        "Kmeans_model(continous_features_centered_train,number_of_clusters,number_init)"
      ],
      "execution_count": null,
      "outputs": [
        {
          "output_type": "stream",
          "text": [
            "15\n",
            "16\n",
            "17\n",
            "18\n",
            "19\n",
            "20\n",
            "21\n",
            "22\n",
            "23\n",
            "24\n",
            "25\n",
            "26\n",
            "27\n",
            "28\n",
            "29\n",
            "30\n",
            "31\n",
            "32\n",
            "33\n",
            "34\n",
            "35\n",
            "36\n",
            "37\n",
            "38\n",
            "39\n",
            "40\n",
            "41\n",
            "42\n",
            "43\n",
            "44\n",
            "45\n",
            "46\n",
            "47\n",
            "48\n",
            "49\n"
          ],
          "name": "stdout"
        },
        {
          "output_type": "execute_result",
          "data": {
            "text/plain": [
              "[2150771.027779755,\n",
              " 1909934.4187870717,\n",
              " 1711690.453412739,\n",
              " 1526246.0129862372,\n",
              " 1321836.4038032873,\n",
              " 1189081.3755549833,\n",
              " 1074105.911642844,\n",
              " 924161.7110903575,\n",
              " 825165.6334326385,\n",
              " 760989.1107287912,\n",
              " 722854.5585659004,\n",
              " 689544.8927297987,\n",
              " 656297.9633883515,\n",
              " 633757.4099181873,\n",
              " 610030.8820074423,\n",
              " 582329.4356828432,\n",
              " 563374.7990553858,\n",
              " 537737.6310433378,\n",
              " 512469.9483330948,\n",
              " 488450.6026275004,\n",
              " 481068.6964925545,\n",
              " 457783.2096930552,\n",
              " 442749.0610777421,\n",
              " 424273.10047887336,\n",
              " 422884.1502308114,\n",
              " 397434.6125875323,\n",
              " 389468.914300702,\n",
              " 374318.63834020257,\n",
              " 365825.51823793567,\n",
              " 350562.70896774833,\n",
              " 336951.9129527602,\n",
              " 335042.05268992356,\n",
              " 323708.1314917145,\n",
              " 320832.6147763022,\n",
              " 307613.16423188325]"
            ]
          },
          "metadata": {
            "tags": []
          },
          "execution_count": 26
        },
        {
          "output_type": "display_data",
          "data": {
            "image/png": "[encoded data removed]",
            "text/plain": [
              "<Figure size 1080x360 with 1 Axes>"
            ]
          },
          "metadata": {
            "tags": []
          }
        }
      ]
    },
    {
      "cell_type": "markdown",
      "metadata": {
        "id": "cvvBC-rpP_LV"
      },
      "source": [
        "We dive deeper into clustters information in order to highlight unproper behaviours in our clusters."
      ]
    },
    {
      "cell_type": "code",
      "metadata": {
        "colab": {
          "base_uri": "https://localhost:8080/"
        },
        "id": "UDQYL_M7T0My",
        "outputId": "1fa978e4-43a3-4ea3-b764-7c372d8c06b6"
      },
      "source": [
        "NB_clusters = 24\n",
        "model = KMeans(n_clusters=NB_clusters, n_init=30)\n",
        "model.fit(continous_features_centered_train)"
      ],
      "execution_count": null,
      "outputs": [
        {
          "output_type": "execute_result",
          "data": {
            "text/plain": [
              "KMeans(algorithm='auto', copy_x=True, init='k-means++', max_iter=300,\n",
              "       n_clusters=24, n_init=30, n_jobs=None, precompute_distances='auto',\n",
              "       random_state=None, tol=0.0001, verbose=0)"
            ]
          },
          "metadata": {
            "tags": []
          },
          "execution_count": 27
        }
      ]
    },
    {
      "cell_type": "code",
      "metadata": {
        "id": "2ArTybKET0Df"
      },
      "source": [
        "model_labels = model.labels_\n",
        "cluster_summary = pd.DataFrame(pd.get_dummies(model_labels).sum(), columns=[\"Nb_data_in_cluster\"])\n",
        "cluster_summary[\"Nb_normal_in_cluster\"] = kmean_label_study(train[\"label\"],model_labels,NB_clusters)\n",
        "cluster_summary[\"Nb_anormal_in_cluster\"] = (cluster_summary[\"Nb_data_in_cluster\"] - cluster_summary[\"Nb_normal_in_cluster\"])\n",
        "cluster_summary[\"%_normal_in_cluster\"] = kmean_label_study(train[\"label\"],model_labels,NB_clusters)/cluster_summary[\"Nb_data_in_cluster\"]\n",
        "cluster_summary[\"%_anormal_in_cluster\"] = (cluster_summary[\"Nb_data_in_cluster\"] - cluster_summary[\"Nb_normal_in_cluster\"])/cluster_summary[\"Nb_data_in_cluster\"]\n",
        "cluster_summary[\"%_data_in_the_cluster\"] = cluster_summary[\"Nb_data_in_cluster\"]/len(train)"
      ],
      "execution_count": null,
      "outputs": []
    },
    {
      "cell_type": "code",
      "metadata": {
        "id": "WvjBUsXCUg95",
        "colab": {
          "base_uri": "https://localhost:8080/",
          "height": 790
        },
        "outputId": "492ffbe9-8b30-46a8-9708-5ebdb6d5a317"
      },
      "source": [
        "cluster_summary.head(NB_clusters)"
      ],
      "execution_count": null,
      "outputs": [
        {
          "output_type": "execute_result",
          "data": {
            "text/html": [
              "<div>\n",
              "<style scoped>\n",
              "    .dataframe tbody tr th:only-of-type {\n",
              "        vertical-align: middle;\n",
              "    }\n",
              "\n",
              "    .dataframe tbody tr th {\n",
              "        vertical-align: top;\n",
              "    }\n",
              "\n",
              "    .dataframe thead th {\n",
              "        text-align: right;\n",
              "    }\n",
              "</style>\n",
              "<table border=\"1\" class=\"dataframe\">\n",
              "  <thead>\n",
              "    <tr style=\"text-align: right;\">\n",
              "      <th></th>\n",
              "      <th>Nb_data_in_cluster</th>\n",
              "      <th>Nb_normal_in_cluster</th>\n",
              "      <th>Nb_anormal_in_cluster</th>\n",
              "      <th>%_normal_in_cluster</th>\n",
              "      <th>%_anormal_in_cluster</th>\n",
              "      <th>%_data_in_the_cluster</th>\n",
              "    </tr>\n",
              "  </thead>\n",
              "  <tbody>\n",
              "    <tr>\n",
              "      <th>0</th>\n",
              "      <td>196439</td>\n",
              "      <td>22.0</td>\n",
              "      <td>196417.0</td>\n",
              "      <td>0.000112</td>\n",
              "      <td>0.999888</td>\n",
              "      <td>0.568048</td>\n",
              "    </tr>\n",
              "    <tr>\n",
              "      <th>1</th>\n",
              "      <td>60649</td>\n",
              "      <td>9.0</td>\n",
              "      <td>60640.0</td>\n",
              "      <td>0.000148</td>\n",
              "      <td>0.999852</td>\n",
              "      <td>0.175380</td>\n",
              "    </tr>\n",
              "    <tr>\n",
              "      <th>2</th>\n",
              "      <td>14998</td>\n",
              "      <td>80.0</td>\n",
              "      <td>14918.0</td>\n",
              "      <td>0.005334</td>\n",
              "      <td>0.994666</td>\n",
              "      <td>0.043370</td>\n",
              "    </tr>\n",
              "    <tr>\n",
              "      <th>3</th>\n",
              "      <td>41</td>\n",
              "      <td>34.0</td>\n",
              "      <td>7.0</td>\n",
              "      <td>0.829268</td>\n",
              "      <td>0.170732</td>\n",
              "      <td>0.000119</td>\n",
              "    </tr>\n",
              "    <tr>\n",
              "      <th>4</th>\n",
              "      <td>681</td>\n",
              "      <td>0.0</td>\n",
              "      <td>681.0</td>\n",
              "      <td>0.000000</td>\n",
              "      <td>1.000000</td>\n",
              "      <td>0.001969</td>\n",
              "    </tr>\n",
              "    <tr>\n",
              "      <th>5</th>\n",
              "      <td>25863</td>\n",
              "      <td>24996.0</td>\n",
              "      <td>867.0</td>\n",
              "      <td>0.966477</td>\n",
              "      <td>0.033523</td>\n",
              "      <td>0.074789</td>\n",
              "    </tr>\n",
              "    <tr>\n",
              "      <th>6</th>\n",
              "      <td>1</td>\n",
              "      <td>1.0</td>\n",
              "      <td>0.0</td>\n",
              "      <td>1.000000</td>\n",
              "      <td>0.000000</td>\n",
              "      <td>0.000003</td>\n",
              "    </tr>\n",
              "    <tr>\n",
              "      <th>7</th>\n",
              "      <td>45</td>\n",
              "      <td>0.0</td>\n",
              "      <td>45.0</td>\n",
              "      <td>0.000000</td>\n",
              "      <td>1.000000</td>\n",
              "      <td>0.000130</td>\n",
              "    </tr>\n",
              "    <tr>\n",
              "      <th>8</th>\n",
              "      <td>29682</td>\n",
              "      <td>28325.0</td>\n",
              "      <td>1357.0</td>\n",
              "      <td>0.954282</td>\n",
              "      <td>0.045718</td>\n",
              "      <td>0.085832</td>\n",
              "    </tr>\n",
              "    <tr>\n",
              "      <th>9</th>\n",
              "      <td>28</td>\n",
              "      <td>3.0</td>\n",
              "      <td>25.0</td>\n",
              "      <td>0.107143</td>\n",
              "      <td>0.892857</td>\n",
              "      <td>0.000081</td>\n",
              "    </tr>\n",
              "    <tr>\n",
              "      <th>10</th>\n",
              "      <td>15</td>\n",
              "      <td>2.0</td>\n",
              "      <td>13.0</td>\n",
              "      <td>0.133333</td>\n",
              "      <td>0.866667</td>\n",
              "      <td>0.000043</td>\n",
              "    </tr>\n",
              "    <tr>\n",
              "      <th>11</th>\n",
              "      <td>297</td>\n",
              "      <td>87.0</td>\n",
              "      <td>210.0</td>\n",
              "      <td>0.292929</td>\n",
              "      <td>0.707071</td>\n",
              "      <td>0.000859</td>\n",
              "    </tr>\n",
              "    <tr>\n",
              "      <th>12</th>\n",
              "      <td>511</td>\n",
              "      <td>449.0</td>\n",
              "      <td>62.0</td>\n",
              "      <td>0.878669</td>\n",
              "      <td>0.121331</td>\n",
              "      <td>0.001478</td>\n",
              "    </tr>\n",
              "    <tr>\n",
              "      <th>13</th>\n",
              "      <td>1133</td>\n",
              "      <td>0.0</td>\n",
              "      <td>1133.0</td>\n",
              "      <td>0.000000</td>\n",
              "      <td>1.000000</td>\n",
              "      <td>0.003276</td>\n",
              "    </tr>\n",
              "    <tr>\n",
              "      <th>14</th>\n",
              "      <td>3</td>\n",
              "      <td>0.0</td>\n",
              "      <td>3.0</td>\n",
              "      <td>0.000000</td>\n",
              "      <td>1.000000</td>\n",
              "      <td>0.000009</td>\n",
              "    </tr>\n",
              "    <tr>\n",
              "      <th>15</th>\n",
              "      <td>7</td>\n",
              "      <td>6.0</td>\n",
              "      <td>1.0</td>\n",
              "      <td>0.857143</td>\n",
              "      <td>0.142857</td>\n",
              "      <td>0.000020</td>\n",
              "    </tr>\n",
              "    <tr>\n",
              "      <th>16</th>\n",
              "      <td>3125</td>\n",
              "      <td>2992.0</td>\n",
              "      <td>133.0</td>\n",
              "      <td>0.957440</td>\n",
              "      <td>0.042560</td>\n",
              "      <td>0.009037</td>\n",
              "    </tr>\n",
              "    <tr>\n",
              "      <th>17</th>\n",
              "      <td>2</td>\n",
              "      <td>1.0</td>\n",
              "      <td>1.0</td>\n",
              "      <td>0.500000</td>\n",
              "      <td>0.500000</td>\n",
              "      <td>0.000006</td>\n",
              "    </tr>\n",
              "    <tr>\n",
              "      <th>18</th>\n",
              "      <td>305</td>\n",
              "      <td>301.0</td>\n",
              "      <td>4.0</td>\n",
              "      <td>0.986885</td>\n",
              "      <td>0.013115</td>\n",
              "      <td>0.000882</td>\n",
              "    </tr>\n",
              "    <tr>\n",
              "      <th>19</th>\n",
              "      <td>5854</td>\n",
              "      <td>5592.0</td>\n",
              "      <td>262.0</td>\n",
              "      <td>0.955244</td>\n",
              "      <td>0.044756</td>\n",
              "      <td>0.016928</td>\n",
              "    </tr>\n",
              "    <tr>\n",
              "      <th>20</th>\n",
              "      <td>996</td>\n",
              "      <td>111.0</td>\n",
              "      <td>885.0</td>\n",
              "      <td>0.111446</td>\n",
              "      <td>0.888554</td>\n",
              "      <td>0.002880</td>\n",
              "    </tr>\n",
              "    <tr>\n",
              "      <th>21</th>\n",
              "      <td>3625</td>\n",
              "      <td>3617.0</td>\n",
              "      <td>8.0</td>\n",
              "      <td>0.997793</td>\n",
              "      <td>0.002207</td>\n",
              "      <td>0.010483</td>\n",
              "    </tr>\n",
              "    <tr>\n",
              "      <th>22</th>\n",
              "      <td>2</td>\n",
              "      <td>2.0</td>\n",
              "      <td>0.0</td>\n",
              "      <td>1.000000</td>\n",
              "      <td>0.000000</td>\n",
              "      <td>0.000006</td>\n",
              "    </tr>\n",
              "    <tr>\n",
              "      <th>23</th>\n",
              "      <td>1512</td>\n",
              "      <td>1368.0</td>\n",
              "      <td>144.0</td>\n",
              "      <td>0.904762</td>\n",
              "      <td>0.095238</td>\n",
              "      <td>0.004372</td>\n",
              "    </tr>\n",
              "  </tbody>\n",
              "</table>\n",
              "</div>"
            ],
            "text/plain": [
              "    Nb_data_in_cluster  ...  %_data_in_the_cluster\n",
              "0               196439  ...               0.568048\n",
              "1                60649  ...               0.175380\n",
              "2                14998  ...               0.043370\n",
              "3                   41  ...               0.000119\n",
              "4                  681  ...               0.001969\n",
              "5                25863  ...               0.074789\n",
              "6                    1  ...               0.000003\n",
              "7                   45  ...               0.000130\n",
              "8                29682  ...               0.085832\n",
              "9                   28  ...               0.000081\n",
              "10                  15  ...               0.000043\n",
              "11                 297  ...               0.000859\n",
              "12                 511  ...               0.001478\n",
              "13                1133  ...               0.003276\n",
              "14                   3  ...               0.000009\n",
              "15                   7  ...               0.000020\n",
              "16                3125  ...               0.009037\n",
              "17                   2  ...               0.000006\n",
              "18                 305  ...               0.000882\n",
              "19                5854  ...               0.016928\n",
              "20                 996  ...               0.002880\n",
              "21                3625  ...               0.010483\n",
              "22                   2  ...               0.000006\n",
              "23                1512  ...               0.004372\n",
              "\n",
              "[24 rows x 6 columns]"
            ]
          },
          "metadata": {
            "tags": []
          },
          "execution_count": 29
        }
      ]
    },
    {
      "cell_type": "code",
      "metadata": {
        "id": "dKgiCCigfJ2z",
        "colab": {
          "base_uri": "https://localhost:8080/",
          "height": 315
        },
        "outputId": "8d647d99-55b6-444e-f0d0-822422873340"
      },
      "source": [
        "cluster_summary[[\"%_normal_in_cluster\",\"%_anormal_in_cluster\",\"%_data_in_the_cluster\"]].plot.bar(figsize=(25,5),title=\"percentage of normal and anormal packets in clusters\",xlabel=\"cluster index\",ylabel=\"%\")\n",
        "plt.show()"
      ],
      "execution_count": null,
      "outputs": [
        {
          "output_type": "display_data",
          "data": {
            "image/png": "[encoded data removed]",
            "text/plain": [
              "<Figure size 1800x360 with 1 Axes>"
            ]
          },
          "metadata": {
            "tags": []
          }
        }
      ]
    },
    {
      "cell_type": "markdown",
      "metadata": {
        "id": "eALGTOgCQP2X"
      },
      "source": [
        "We can see there that the problem with a big dataset made of lot of normal data is corrected. On top of that big clusters like cluster 0, 1 et 2 are made of predominant type of data. For instance, the number 0, the biggest one, is mostly made of anormal data (more than 99%). Thus we can easily name this cluster as a anormal cluster without thinking about to many false alarms. \\\n",
        "Now, the tricky part of the study will be smallest clusters like the 11. It is made of 30% of normal data and contains 297 data. The questions are \"Can we assign this clusters to a certain type of behaviour ?\", \"Do we really care about small clusters or can we overlook them ?\". \n",
        "\n",
        "\n",
        "\\\n",
        "\n",
        "\n",
        "\n",
        "To conclude the study on Kmean algorithm setting we can say that :\n",
        "\n",
        "\n",
        "\n",
        "*   We need all our continous data to find proper setting. Maybe it could be interresting to add categorical data that are one hot encoded to find more accurate setting.\n",
        "*   **24 is a proper number of clusters for our kmean algorithm**\n",
        "\n"
      ]
    },
    {
      "cell_type": "markdown",
      "metadata": {
        "id": "1UEd0fV4rLhj"
      },
      "source": [
        "\n",
        "\n",
        "---\n",
        "\n"
      ]
    },
    {
      "cell_type": "code",
      "metadata": {
        "id": "qpl01sbWGlRC"
      },
      "source": [
        "y_test = model.predict(continous_features_centered_test)"
      ],
      "execution_count": null,
      "outputs": []
    },
    {
      "cell_type": "code",
      "metadata": {
        "id": "EIVx76sLqL5U"
      },
      "source": [
        "def confusion_matrix(y_predicted,ground_truth_y,cluster_definition):\n",
        "  true_positive = 0\n",
        "  true_negative = 0 \n",
        "  false_positive = 0\n",
        "  false_negative = 0\n",
        "  confusion_matrix = np.array(np.zeros([2,2]))\n",
        "  for i in range(len(y_predicted)):\n",
        "      if (ground_truth_y.iloc[i] == \"normal.\" and cluster_definition[y_predicted[i]]==0):\n",
        "        true_negative += 1\n",
        "      elif (ground_truth_y.iloc[i] == \"normal.\" and cluster_definition[y_predicted[i]]==1):\n",
        "        false_positive += 1\n",
        "      elif (ground_truth_y.iloc[i] != \"normal.\" and cluster_definition[y_predicted[i]]==1):\n",
        "        true_positive += 1\n",
        "      else:\n",
        "        false_negative += 1\n",
        "  confusion_matrix[0,0] = false_negative\n",
        "  confusion_matrix[0,1] = true_positive\n",
        "  confusion_matrix[1,0] = true_negative\n",
        "  confusion_matrix[1,1] = false_positive\n",
        "  \n",
        "  return pd.DataFrame(confusion_matrix,index=[\"anomaly\",\"normal\"],columns=[\"conforming to security policy\",\"security violation\"])"
      ],
      "execution_count": null,
      "outputs": []
    },
    {
      "cell_type": "code",
      "metadata": {
        "id": "YdjRMyvfZ7_c"
      },
      "source": [
        "def clusters_meaning(summary):\n",
        "  cluster_meaning = []\n",
        "  for i in range(len(summary)) :\n",
        "    if(summary[\"%_normal_in_cluster\"].iloc[i]>summary[\"%_anormal_in_cluster\"].iloc[i]):\n",
        "      cluster_meaning.append(0)\n",
        "    else:\n",
        "      cluster_meaning.append(1)\n",
        "  return cluster_meaning"
      ],
      "execution_count": null,
      "outputs": []
    },
    {
      "cell_type": "code",
      "metadata": {
        "id": "Fg0nWU2Na8Sf",
        "colab": {
          "base_uri": "https://localhost:8080/"
        },
        "outputId": "1be7b61a-7a80-47d8-a008-8c665dd8eaec"
      },
      "source": [
        "cluster_meaning = clusters_meaning(cluster_summary)\n",
        "print(cluster_meaning)"
      ],
      "execution_count": null,
      "outputs": [
        {
          "output_type": "stream",
          "text": [
            "[1, 1, 1, 0, 1, 0, 0, 1, 0, 1, 1, 1, 0, 1, 1, 0, 0, 1, 0, 0, 1, 0, 0, 0]\n"
          ],
          "name": "stdout"
        }
      ]
    },
    {
      "cell_type": "code",
      "metadata": {
        "id": "1P7EeVENGpWe"
      },
      "source": [
        "conf_matrix = confusion_matrix(y_test,test.label,cluster_meaning)"
      ],
      "execution_count": null,
      "outputs": []
    },
    {
      "cell_type": "code",
      "metadata": {
        "id": "BQKXb0VYM2GP",
        "colab": {
          "base_uri": "https://localhost:8080/"
        },
        "outputId": "1aaf74e3-a9dc-473e-f4ce-72b594cf76a1"
      },
      "source": [
        "print(conf_matrix)"
      ],
      "execution_count": null,
      "outputs": [
        {
          "output_type": "stream",
          "text": [
            "         conforming to security policy  security violation\n",
            "anomaly                         1193.0            117734.0\n",
            "normal                         29124.0               156.0\n"
          ],
          "name": "stdout"
        }
      ]
    },
    {
      "cell_type": "code",
      "metadata": {
        "id": "iLvPylcYVjWU",
        "colab": {
          "base_uri": "https://localhost:8080/"
        },
        "outputId": "c3e5d5cb-1efc-4877-cb4f-566725b45560"
      },
      "source": [
        "#metrics \n",
        "precision = conf_matrix.iloc[0,1]/(conf_matrix.iloc[0,1] + conf_matrix.iloc[1,1])\n",
        "recall = conf_matrix.iloc[0,1]/(conf_matrix.iloc[0,1] + conf_matrix.iloc[0,0])\n",
        "F1_score = 2/((1/precision) + (1/recall))\n",
        "\n",
        "print(f\"precision: {precision}\")\n",
        "print(f\"recall: {recall}\")\n",
        "print(f\"F1-score: {F1_score}\")"
      ],
      "execution_count": null,
      "outputs": [
        {
          "output_type": "stream",
          "text": [
            "precision: 0.9986767325472898\n",
            "recall: 0.9899686362222203\n",
            "F1-score: 0.9943036184057732\n"
          ],
          "name": "stdout"
        }
      ]
    }
  ]
}